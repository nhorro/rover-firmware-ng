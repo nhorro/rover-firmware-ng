{
 "cells": [
  {
   "cell_type": "markdown",
   "id": "5a3bb648-6694-4f19-8e5d-92a029e70062",
   "metadata": {},
   "source": [
    "# Rover control (draft/development)\n",
    "\n",
    "This notebook is for development and testing of the Rover. It is meant to be used with the Rover connected to USB during development.\n",
    "\n",
    "- The communication with vehicle using [The Simple Communication Protocol for Embedded Applications](https://github.com/nhorro/simpleprotocol)."
   ]
  },
  {
   "cell_type": "markdown",
   "id": "ca452f9f-b0da-4715-8870-b43895c7e889",
   "metadata": {},
   "source": [
    "## Protocol definition"
   ]
  },
  {
   "cell_type": "code",
   "execution_count": 1,
   "id": "3876d2b0-6347-4da1-b4d6-ad224a0a6679",
   "metadata": {},
   "outputs": [],
   "source": [
    "import simpleprotocol as sp\n",
    "import ctypes\n",
    "from struct import unpack, pack"
   ]
  },
  {
   "cell_type": "code",
   "execution_count": 2,
   "id": "ab085b62-5f8d-454a-ad9d-0a7487af3708",
   "metadata": {},
   "outputs": [],
   "source": [
    "def bytearray_to_packet_str(packet_ba: bytearray) -> str:\n",
    "    return \"0x \" + \"\".join([\"%02X \" % x for x in packet_ba])"
   ]
  },
  {
   "cell_type": "markdown",
   "id": "6e41711a-d040-45b5-a5f6-0c4168cfd736",
   "metadata": {},
   "source": [
    "### Telecommands"
   ]
  },
  {
   "cell_type": "code",
   "execution_count": 3,
   "id": "b7901d6b-39d0-4d5b-8697-b3910fb65800",
   "metadata": {},
   "outputs": [],
   "source": [
    "class LedControlCommand(sp.BaseMessage):\n",
    "    def __init__(self):\n",
    "        # Header\n",
    "        self.opcode = 0\n",
    "        \n",
    "        # Payload\n",
    "        self.control_flags = 0\n",
    "\n",
    "        # see: https://docs.python.org/3/library/struct.html\n",
    "        self.format = '>BI'\n",
    "        sp.BaseMessage.__init__(self)"
   ]
  },
  {
   "cell_type": "code",
   "execution_count": 4,
   "id": "0003beaa-9b35-4d4e-badd-789d219062b6",
   "metadata": {},
   "outputs": [],
   "source": [
    "class ControlMotorManualCommand(sp.BaseMessage):\n",
    "    def __init__(self):\n",
    "        # Header\n",
    "        self.opcode = 1\n",
    "        \n",
    "        # Payload\n",
    "        self.MotorControlFlags = 0\n",
    "        self.MotorAThrottle = 0.\n",
    "        self.MotorBThrottle = 0.\n",
    "\n",
    "        # see: https://docs.python.org/3/library/struct.html\n",
    "        self.format = '>BIff'\n",
    "        sp.BaseMessage.__init__(self)"
   ]
  },
  {
   "cell_type": "code",
   "execution_count": 5,
   "id": "e85261af-9848-44ab-8543-77630a184153",
   "metadata": {},
   "outputs": [],
   "source": [
    "class ControlMotorAutoCommand(sp.BaseMessage):\n",
    "    def __init__(self):\n",
    "        # Header\n",
    "        self.opcode = 2\n",
    "        \n",
    "        # Payload\n",
    "        self.MotorControlFlags = 0\n",
    "        self.MotorASpeed = 0.\n",
    "        self.MotorBSpeed = 0.\n",
    "\n",
    "        # see: https://docs.python.org/3/library/struct.html\n",
    "        self.format = '>BIff'\n",
    "        sp.BaseMessage.__init__(self)"
   ]
  },
  {
   "cell_type": "code",
   "execution_count": 6,
   "id": "ade92267-6a07-4174-91a8-ba25d739ee86",
   "metadata": {},
   "outputs": [],
   "source": [
    "class SetMotorControlModeCommand(sp.BaseMessage):\n",
    "    def __init__(self):\n",
    "        # Header\n",
    "        self.opcode = 3\n",
    "        \n",
    "        # Payload\n",
    "        self.MotorControlModeFlags = 0\n",
    "\n",
    "        # see: https://docs.python.org/3/library/struct.html\n",
    "        self.format = '>BI'\n",
    "        sp.BaseMessage.__init__(self)"
   ]
  },
  {
   "cell_type": "markdown",
   "id": "53b892c7-70d4-49c0-b6e9-72923a0b8688",
   "metadata": {},
   "source": [
    "### Telemetry"
   ]
  },
  {
   "cell_type": "code",
   "execution_count": 7,
   "id": "7ac57899-16c5-421a-bb83-63a02749dda9",
   "metadata": {},
   "outputs": [],
   "source": [
    "class GeneralTelemetry(sp.BaseMessage):\n",
    "    def __init__(self):        \n",
    "        \n",
    "        self.TelemetryCycle = 0\n",
    "        self.ReceivedPackets = 0\n",
    "        self.LedControlState = 0\n",
    "        self.LastCommandOpcode = 0\n",
    "        self.LastCommandResult = 0\n",
    "        self.LasOsResult1 = 0\n",
    "        self.LasOsResult2 = 0\n",
    "\n",
    "        # see: https://docs.python.org/3/library/struct.html\n",
    "        self.format = '>IIIIIii'\n",
    "        sp.BaseMessage.__init__(self)\n",
    "    \n",
    "    def get_field_values(self):        \n",
    "        result = {f: getattr(self, f) for f in self.fields }\n",
    "        return result"
   ]
  },
  {
   "cell_type": "code",
   "execution_count": 8,
   "id": "6e56397b-3847-4585-a280-3891004421bb",
   "metadata": {},
   "outputs": [],
   "source": [
    "class MotorControlTelemetry(sp.BaseMessage):\n",
    "    def __init__(self):        \n",
    "        \n",
    "        self.Throttle1 = 0\n",
    "        self.Throttle2 = 0\n",
    "        \n",
    "        self.Tachometer1 = 0\n",
    "        self.Tachometer2 = 0\n",
    "        self.Tachometer3 = 0\n",
    "        self.Tachometer4 = 0\n",
    "        \n",
    "        self.MeasuredSpeed1 = 0\n",
    "        self.MeasuredSpeed2 = 0\n",
    "        self.MeasuredSpeed3 = 0\n",
    "        self.MeasuredSpeed4 = 0\n",
    "        \n",
    "        self.SetpointSpeed1 = 0\n",
    "        self.SetpointSpeed2 = 0\n",
    "        \n",
    "        self.StatusFlags = 0\n",
    "\n",
    "        # see: https://docs.python.org/3/library/struct.html\n",
    "        self.format = '>ffIIIIffffffI'\n",
    "        sp.BaseMessage.__init__(self)\n",
    "    \n",
    "    def get_field_values(self):        \n",
    "        result = {f: getattr(self, f) for f in self.fields }\n",
    "        return result"
   ]
  },
  {
   "cell_type": "markdown",
   "id": "e0a2aa75-a404-4a9a-8aec-d521a112772d",
   "metadata": {},
   "source": [
    "## Serial connection"
   ]
  },
  {
   "cell_type": "code",
   "execution_count": 9,
   "id": "b1e1bedd-ad65-47c3-ac98-63c172d1535f",
   "metadata": {},
   "outputs": [],
   "source": [
    "from serialif import SerialIF\n",
    "from struct import unpack\n",
    "\n",
    "class GroundControlSerialIF(SerialIF):\n",
    "    \"\"\" \n",
    "    \"\"\"\n",
    "    def __init__(self, port, baudrate,debug=False):\n",
    "        SerialIF.__init__(self, port, baudrate, self._on_data)\n",
    "        self.debug = debug\n",
    "        self.decoder = sp.Decoder(\n",
    "            user_handler_fn=self._handle_packet, \n",
    "            user_error_handler_fn=self._handle_error)\n",
    "        self.encoder = sp.Encoder()\n",
    "        self.start_listening()\n",
    "        \n",
    "        self.telemetry_report_handlers = {\n",
    "           0: self._handle_general_telemetry,\n",
    "           1: self._handle_motor_control_telemetry\n",
    "        }\n",
    "        \n",
    "        self.last_general_telemetry = None\n",
    "        self.last_motor_control_telemetry = None\n",
    "        self.last_motor_control_telemetry_raw = None\n",
    "        \n",
    "    def print_telemetry(self):\n",
    "        print(\"General Telemetry\")\n",
    "        for k,v in self.last_general_telemetry.items():\n",
    "            print(\"   {}: 0x{:08x}\".format(k,v))\n",
    "        print(\"Motor Telemetry\")\n",
    "        for k,v in self.last_motor_control_telemetry.items():\n",
    "            print(\"   {}: {}\".format(k,v))\n",
    "\n",
    "    def _handle_error(self, ec):\n",
    "        print(\"Some error:\", ec)\n",
    "\n",
    "    def shutdown(self):\n",
    "        self.stop_listening()\n",
    "        \n",
    "    def _on_data(self, c):\n",
    "        self.decoder.feed(ord(c))\n",
    "        \n",
    "    def _send_command(self,cmd):\n",
    "        self.encoder.encode(cmd.to_bytes())\n",
    "        self.send_data(self.encoder.get_packet_bytes())\n",
    "        #if self.debug:\n",
    "        print(\"Sent: {} ({} bytes)\".format(\n",
    "            bytearray_to_packet_str(self.encoder.get_packet_bytes()),\n",
    "            len(self.encoder.get_packet_bytes())        \n",
    "        ))\n",
    "                        \n",
    "    def _handle_packet(self, payload):\n",
    "        #print(\"Good packet!. Payload:\", payload)        \n",
    "        if self.debug:\n",
    "            print(\"Received payload: {}\".format(bytearray_to_packet_str(payload)))\n",
    "            \n",
    "        report_type = payload[0]\n",
    "        if report_type in self.telemetry_report_handlers:\n",
    "            self.telemetry_report_handlers[report_type](payload[1:])\n",
    "        else:\n",
    "            print(\"Unknown report type: 0x{:02x}\".format(report_type))\n",
    "        \n",
    "    # =====================================================================\n",
    "    # Commands here\n",
    "    # =====================================================================\n",
    "    \n",
    "    # Commands    \n",
    "    def control_led(self,led_state):\n",
    "        cmd = LedControlCommand()        \n",
    "        cmd.control_flags = led_state\n",
    "        self._send_command(cmd)\n",
    "        \n",
    "    def set_motor_throttles(self,a,b,flags):\n",
    "        cmd = ControlMotorManualCommand()        \n",
    "        cmd.MotorControlFlags = flags\n",
    "        cmd.MotorAThrottle = a\n",
    "        cmd.MotorBThrottle = b\n",
    "        self._send_command(cmd)\n",
    "        \n",
    "    def set_motor_speeds(self,a,b,flags):\n",
    "        cmd = ControlMotorAutoCommand()        \n",
    "        cmd.MotorControlFlags = flags\n",
    "        cmd.MotorASpeed = a\n",
    "        cmd.MotorBSpeed = b\n",
    "        self._send_command(cmd)\n",
    "        \n",
    "    def set_motor_control_mode(self,flags):\n",
    "        cmd = SetMotorControlModeCommand()        \n",
    "        cmd.MotorControlModeFlags = flags        \n",
    "        self._send_command(cmd)\n",
    "        \n",
    "    # =====================================================================\n",
    "    # Telemetry report handling here\n",
    "    # =====================================================================            \n",
    "            \n",
    "    def _handle_general_telemetry(self,payload):\n",
    "        tm = GeneralTelemetry()\n",
    "        tm.from_bytes(payload)\n",
    "        self.last_general_telemetry = tm.get_field_values()\n",
    "        \n",
    "    def _handle_motor_control_telemetry(self, payload):\n",
    "        tm = MotorControlTelemetry()\n",
    "        tm.from_bytes(payload)\n",
    "        self.last_motor_control_telemetry = tm.get_field_values() \n",
    "        self.last_motor_control_telemetry_raw = payload"
   ]
  },
  {
   "cell_type": "markdown",
   "id": "e305d986-33ad-45d5-b168-aab4782a258c",
   "metadata": {},
   "source": [
    "## Vehicle operation"
   ]
  },
  {
   "cell_type": "markdown",
   "id": "75155630-9cab-46d8-b027-c452053b8b43",
   "metadata": {},
   "source": [
    "### Connection to vehicle"
   ]
  },
  {
   "cell_type": "code",
   "execution_count": 11,
   "id": "31571081-5b78-40d7-ba11-658ae6e92338",
   "metadata": {},
   "outputs": [
    {
     "name": "stdout",
     "output_type": "stream",
     "text": [
      "Spurius character:  32\n"
     ]
    }
   ],
   "source": [
    "vehicle = GroundControlSerialIF(\"/dev/ttyACM0\", 115200,debug=False)"
   ]
  },
  {
   "cell_type": "markdown",
   "id": "c0fb3f54-f6e6-46d4-aeae-0073acae8ddb",
   "metadata": {},
   "source": [
    "### Sending commands"
   ]
  },
  {
   "cell_type": "code",
   "execution_count": null,
   "id": "5a45aa9a-0bc5-44c8-9783-cf939c2795c4",
   "metadata": {},
   "outputs": [],
   "source": [
    "vehicle.control_led(0x00000001)"
   ]
  },
  {
   "cell_type": "code",
   "execution_count": 29,
   "id": "e569b090-e027-44c3-b9e0-685df0613842",
   "metadata": {},
   "outputs": [
    {
     "name": "stdout",
     "output_type": "stream",
     "text": [
      "Sent: 0x 40 3C 0D 01 00 00 00 03 41 40 00 00 41 70 00 00 AD 0A  (18 bytes)\n"
     ]
    }
   ],
   "source": [
    "vehicle.set_motor_throttles(12.0,15.0,0x3)"
   ]
  },
  {
   "cell_type": "code",
   "execution_count": 32,
   "id": "dce94a64-9a25-4f1f-b725-104b3ffcea40",
   "metadata": {},
   "outputs": [
    {
     "name": "stdout",
     "output_type": "stream",
     "text": [
      "Sent: 0x 40 3C 0D 02 00 00 00 03 3F 80 00 00 40 00 00 00 BF 0A  (18 bytes)\n"
     ]
    }
   ],
   "source": [
    "vehicle.set_motor_speeds(1.,2.,0x3)"
   ]
  },
  {
   "cell_type": "markdown",
   "id": "ae87d091-c7e3-450c-bb0b-e0881e747e28",
   "metadata": {},
   "source": [
    "## Checking received telemetry"
   ]
  },
  {
   "cell_type": "code",
   "execution_count": 36,
   "id": "d4e9bcde-2249-4e64-af48-2602557164b8",
   "metadata": {},
   "outputs": [
    {
     "name": "stdout",
     "output_type": "stream",
     "text": [
      "General Telemetry\n",
      "   TelemetryCycle: 0x00000010\n",
      "   ReceivedPackets: 0x00000001\n",
      "   LedControlState: 0x00000000\n",
      "   LastCommandOpcode: 0x00000002\n",
      "   LastCommandResult: 0x00000001\n",
      "   LasOsResult1: 0x00000000\n",
      "   LasOsResult2: 0x00000000\n",
      "Motor Telemetry\n",
      "   Throttle1: 0.0\n",
      "   Throttle2: 0.0\n",
      "   Tachometer1: 0\n",
      "   Tachometer2: 0\n",
      "   Tachometer3: 0\n",
      "   Tachometer4: 0\n",
      "   MeasuredSpeed1: 0.0\n",
      "   MeasuredSpeed2: 0.0\n",
      "   MeasuredSpeed3: 0.0\n",
      "   MeasuredSpeed4: 0.0\n",
      "   SetpointSpeed1: 1.0\n",
      "   SetpointSpeed2: 2.0\n",
      "   StatusFlags: 0\n"
     ]
    }
   ],
   "source": [
    "vehicle.print_telemetry()"
   ]
  },
  {
   "cell_type": "markdown",
   "id": "9e6421b0-5bd9-46a7-be19-2763a0dcb14b",
   "metadata": {},
   "source": [
    "## Sending floats is not working"
   ]
  },
  {
   "cell_type": "code",
   "execution_count": null,
   "id": "9ff82cd3-1543-4264-b35f-3a9994aa483f",
   "metadata": {},
   "outputs": [],
   "source": [
    "bytearray_to_packet_str(vehicle.last_motor_control_telemetry_raw)"
   ]
  },
  {
   "cell_type": "markdown",
   "id": "a349cb84-1a24-4c08-baf1-59952a94b12c",
   "metadata": {},
   "source": [
    "~~~\n",
    "00 00 00 00 \n",
    "00 00 00 00 \n",
    "\n",
    "00 00 00 00 \n",
    "00 00 00 00 \n",
    "00 00 00 00 \n",
    "00 00 00 00 \n",
    "\n",
    "00 00 06 C3  \n",
    "B5 15 69 41 \n",
    "1B AF 13 42 \n",
    "A4 E0 7F 44 \n",
    "\n",
    "00 00 00 00 \n",
    "00 00 00 00 \n",
    "\n",
    "00 00 00 00\n",
    "\n",
    "Motor Telemetry\n",
    "   Throttle1: 0.0\n",
    "   Throttle2: 0.0\n",
    "   Tachometer1: 0\n",
    "   Tachometer2: 0\n",
    "   Tachometer3: 0\n",
    "   Tachometer4: 0\n",
    "   MeasuredSpeed1: 2.4256476417462583e-42\n",
    "   MeasuredSpeed2: -5.565999003920297e-07\n",
    "   MeasuredSpeed3: 2.8963766508996735e-22\n",
    "   MeasuredSpeed4: -9.736011100955702e-17\n",
    "   SetpointSpeed1: 0.0\n",
    "   SetpointSpeed2: 0.0\n",
    "   StatusFlags: 0\n",
    "\n",
    "~~~"
   ]
  },
  {
   "cell_type": "markdown",
   "id": "81526260-55c9-44e8-9b1e-9af8b19cfb0d",
   "metadata": {},
   "source": [
    "## Teardown"
   ]
  },
  {
   "cell_type": "code",
   "execution_count": null,
   "id": "fd5c4f6f-ad13-40ed-9129-1b18454eabde",
   "metadata": {},
   "outputs": [],
   "source": [
    "vehicle.shutdown()"
   ]
  },
  {
   "cell_type": "markdown",
   "id": "8be933e2-e756-4bb3-8e41-7ffabdbb9ee9",
   "metadata": {
    "tags": []
   },
   "source": [
    "# Work in progress\n",
    "\n",
    "<hr/>"
   ]
  }
 ],
 "metadata": {
  "kernelspec": {
   "display_name": "Python 3 (ipykernel)",
   "language": "python",
   "name": "python3"
  },
  "language_info": {
   "codemirror_mode": {
    "name": "ipython",
    "version": 3
   },
   "file_extension": ".py",
   "mimetype": "text/x-python",
   "name": "python",
   "nbconvert_exporter": "python",
   "pygments_lexer": "ipython3",
   "version": "3.8.8"
  }
 },
 "nbformat": 4,
 "nbformat_minor": 5
}
