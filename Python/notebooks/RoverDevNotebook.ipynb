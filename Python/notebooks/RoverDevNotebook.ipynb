{
 "cells": [
  {
   "cell_type": "markdown",
   "id": "5a3bb648-6694-4f19-8e5d-92a029e70062",
   "metadata": {},
   "source": [
    "# Rover development notebook (draft/development)\n",
    "\n",
    "This notebook is for development and testing of the Rover. It is meant to be used with the Rover connected to USB during development.\n",
    "\n",
    "- The communication with vehicle using [The Simple Communication Protocol for Embedded Applications](https://github.com/nhorro/simpleprotocol)."
   ]
  },
  {
   "cell_type": "code",
   "execution_count": 1,
   "id": "1b88de54-7a08-4a7e-be9c-40aea391032d",
   "metadata": {},
   "outputs": [],
   "source": [
    "%load_ext autoreload\n",
    "%autoreload 2"
   ]
  },
  {
   "cell_type": "markdown",
   "id": "e305d986-33ad-45d5-b168-aab4782a258c",
   "metadata": {},
   "source": [
    "## Vehicle operation\n",
    "\n",
    "![img](../../Documentation/Assets/RoverInTestBenchTopView.jpeg)"
   ]
  },
  {
   "cell_type": "markdown",
   "id": "75155630-9cab-46d8-b027-c452053b8b43",
   "metadata": {},
   "source": [
    "### Connection to vehicle"
   ]
  },
  {
   "cell_type": "markdown",
   "id": "cf058cd2-a076-4ea7-8639-0dbc408b09b8",
   "metadata": {},
   "source": [
    "Find which port is the vehicle connected to.\n",
    "In linux, usually it is ttyACM0, ttyACM1, ..."
   ]
  },
  {
   "cell_type": "code",
   "execution_count": 2,
   "id": "5f47bf11-c938-4382-bc96-e207ea6af5f1",
   "metadata": {},
   "outputs": [
    {
     "name": "stdout",
     "output_type": "stream",
     "text": [
      "/dev/ttyACM0\n"
     ]
    }
   ],
   "source": [
    "!ls /dev/ttyACM*"
   ]
  },
  {
   "cell_type": "code",
   "execution_count": 3,
   "id": "31571081-5b78-40d7-ba11-658ae6e92338",
   "metadata": {},
   "outputs": [],
   "source": [
    "import sys\n",
    "sys.path.append(\"../\")\n",
    "from rover.vehicleif import VehicleIF\n",
    "vehicle = VehicleIF(\"/dev/ttyACM0\", 115200,debug=False)\n",
    "vehicle.capture_path = \"./captures\""
   ]
  },
  {
   "cell_type": "markdown",
   "id": "f92e8e47-fda9-4892-967e-d94cc53e9bb5",
   "metadata": {},
   "source": [
    "For a quick health check, see current telemetry state:"
   ]
  },
  {
   "cell_type": "code",
   "execution_count": 462,
   "id": "6fdccc8b-3a80-4a28-992e-cddd87fcea91",
   "metadata": {},
   "outputs": [
    {
     "name": "stdout",
     "output_type": "stream",
     "text": [
      "General Telemetry\n",
      "   TelemetryCycle: 45\n",
      "   OnBoardTime: 27403\n",
      "   ReceivedPackets: 0\n",
      "   GeneralStatus: 0x00000008\n",
      "   Debug1: 0x00000000\n",
      "   Debug2: 0x00000000\n",
      "Motor Telemetry\n",
      "   TelemetryCycle: 44\n",
      "   OnBoardTime: 26999\n",
      "   Throttle1: 0.0\n",
      "   Throttle2: 0.0\n",
      "   Tachometer1: 0\n",
      "   Tachometer2: 0\n",
      "   Tachometer3: 0\n",
      "   Tachometer4: 0\n",
      "   MeasuredSpeed1: 0.0\n",
      "   MeasuredSpeed2: 0.0\n",
      "   MeasuredSpeed3: 0.0\n",
      "   MeasuredSpeed4: 0.0\n",
      "   SetpointSpeed1: 0.0\n",
      "   SetpointSpeed2: 0.0\n",
      "   StatusFlags: 0x00000000\n",
      "IMU Telemetry\n",
      "   TelemetryCycle: 44\n",
      "   OnBoardTime: 27201\n",
      "   Roll: 1.633950960644448e-11\n",
      "   Pitch: 2.9736979101357974e-08\n",
      "   Yaw: -4.032090927807985e-08\n"
     ]
    },
    {
     "name": "stderr",
     "output_type": "stream",
     "text": [
      "Exception in thread Thread-5:\n",
      "Traceback (most recent call last):\n",
      "  File \"/home/nhorro/anaconda3/lib/python3.8/threading.py\", line 932, in _bootstrap_inner\n",
      "    self.run()\n",
      "  File \"/home/nhorro/anaconda3/lib/python3.8/threading.py\", line 870, in run\n",
      "    self._target(*self._args, **self._kwargs)\n",
      "  File \"../rover/serialif.py\", line 35, in _listen\n",
      "    if self.serial and self.serial.is_open and self.serial.in_waiting:\n",
      "  File \"/home/nhorro/anaconda3/lib/python3.8/site-packages/serial/serialposix.py\", line 549, in in_waiting\n",
      "    s = fcntl.ioctl(self.fd, TIOCINQ, TIOCM_zero_str)\n",
      "OSError: [Errno 5] Input/output error\n"
     ]
    }
   ],
   "source": [
    "vehicle.print_telemetry()"
   ]
  },
  {
   "cell_type": "markdown",
   "id": "16a6cf78-3bb5-4c5b-9fdf-cd80a9f940d0",
   "metadata": {},
   "source": [
    "For a quick command test, turn on and off led."
   ]
  },
  {
   "cell_type": "code",
   "execution_count": null,
   "id": "7d031e29-1987-4055-9074-3927a676260a",
   "metadata": {},
   "outputs": [],
   "source": [
    "# Led on\n",
    "vehicle.control_led(0x00000001)"
   ]
  },
  {
   "cell_type": "code",
   "execution_count": null,
   "id": "c6504014-4341-4a1e-900d-3b16c5ea8b75",
   "metadata": {},
   "outputs": [],
   "source": [
    "# Led off\n",
    "vehicle.control_led(0x00000000)"
   ]
  },
  {
   "cell_type": "markdown",
   "id": "58c65362-2eee-4d6f-be0d-6c8d2dd31dee",
   "metadata": {},
   "source": [
    "## Telemetry analysis\n",
    "\n",
    "The following tests use logged telemetry. Telemetry is received and saved to CSV files. Each telemetry report type is saved to its own file.\n",
    "\n",
    "The following methods start and stop the logging of all received reports:\n",
    "\n",
    "- `start_telemetry_csv_logging()`\n",
    "- `stop_telemetry_csv_logging()`"
   ]
  },
  {
   "cell_type": "code",
   "execution_count": 111,
   "id": "a72d1137-7560-48c6-9660-f44533686e76",
   "metadata": {},
   "outputs": [],
   "source": [
    "vehicle.start_telemetry_csv_logging()"
   ]
  },
  {
   "cell_type": "code",
   "execution_count": 112,
   "id": "fc4c1fba-461e-4c8c-b694-c4af3137b9c9",
   "metadata": {},
   "outputs": [],
   "source": [
    "vehicle.stop_telemetry_csv_logging()"
   ]
  },
  {
   "cell_type": "markdown",
   "id": "f8aec8f0-b081-4c41-a220-9965a56ed459",
   "metadata": {},
   "source": [
    "CSVs will be saved to the `capture_path` variable of the vehicle interface."
   ]
  },
  {
   "cell_type": "code",
   "execution_count": 104,
   "id": "c0a24b26-ef45-4b43-909c-f06cec80c579",
   "metadata": {},
   "outputs": [
    {
     "name": "stdout",
     "output_type": "stream",
     "text": [
      "tctm.telemetry.GeneralTelemetry.csv  tctm.telemetry.MotorControlTelemetry.csv\n",
      "tctm.telemetry.IMUTelemetry.csv\n"
     ]
    }
   ],
   "source": [
    "!ls {vehicle.capture_path}"
   ]
  },
  {
   "cell_type": "code",
   "execution_count": 93,
   "id": "3a678ce2-602b-45bd-a20e-51a14e76ea32",
   "metadata": {},
   "outputs": [
    {
     "data": {
      "text/html": [
       "<div>\n",
       "<style scoped>\n",
       "    .dataframe tbody tr th:only-of-type {\n",
       "        vertical-align: middle;\n",
       "    }\n",
       "\n",
       "    .dataframe tbody tr th {\n",
       "        vertical-align: top;\n",
       "    }\n",
       "\n",
       "    .dataframe thead th {\n",
       "        text-align: right;\n",
       "    }\n",
       "</style>\n",
       "<table border=\"1\" class=\"dataframe\">\n",
       "  <thead>\n",
       "    <tr style=\"text-align: right;\">\n",
       "      <th></th>\n",
       "      <th>TelemetryCycle</th>\n",
       "      <th>OnBoardTime</th>\n",
       "      <th>ReceivedPackets</th>\n",
       "      <th>GeneralStatus</th>\n",
       "      <th>Debug1</th>\n",
       "      <th>Debug2</th>\n",
       "    </tr>\n",
       "  </thead>\n",
       "  <tbody>\n",
       "    <tr>\n",
       "      <th>0</th>\n",
       "      <td>97</td>\n",
       "      <td>58599</td>\n",
       "      <td>0</td>\n",
       "      <td>8</td>\n",
       "      <td>0</td>\n",
       "      <td>0</td>\n",
       "    </tr>\n",
       "    <tr>\n",
       "      <th>1</th>\n",
       "      <td>98</td>\n",
       "      <td>59187</td>\n",
       "      <td>0</td>\n",
       "      <td>8</td>\n",
       "      <td>0</td>\n",
       "      <td>0</td>\n",
       "    </tr>\n",
       "    <tr>\n",
       "      <th>2</th>\n",
       "      <td>99</td>\n",
       "      <td>59796</td>\n",
       "      <td>0</td>\n",
       "      <td>8</td>\n",
       "      <td>0</td>\n",
       "      <td>0</td>\n",
       "    </tr>\n",
       "    <tr>\n",
       "      <th>3</th>\n",
       "      <td>100</td>\n",
       "      <td>60384</td>\n",
       "      <td>0</td>\n",
       "      <td>8</td>\n",
       "      <td>0</td>\n",
       "      <td>0</td>\n",
       "    </tr>\n",
       "    <tr>\n",
       "      <th>4</th>\n",
       "      <td>101</td>\n",
       "      <td>60993</td>\n",
       "      <td>0</td>\n",
       "      <td>8</td>\n",
       "      <td>0</td>\n",
       "      <td>0</td>\n",
       "    </tr>\n",
       "  </tbody>\n",
       "</table>\n",
       "</div>"
      ],
      "text/plain": [
       "   TelemetryCycle  OnBoardTime  ReceivedPackets  GeneralStatus  Debug1  Debug2\n",
       "0              97        58599                0              8       0       0\n",
       "1              98        59187                0              8       0       0\n",
       "2              99        59796                0              8       0       0\n",
       "3             100        60384                0              8       0       0\n",
       "4             101        60993                0              8       0       0"
      ]
     },
     "execution_count": 93,
     "metadata": {},
     "output_type": "execute_result"
    }
   ],
   "source": [
    "import os\n",
    "import pandas as pd\n",
    "import matplotlib.pyplot as plt\n",
    "\n",
    "general_tm_df = pd.read_csv(os.path.join(vehicle.capture_path,\"tctm.telemetry.GeneralTelemetry.csv\"))\n",
    "general_tm_df.head(5)"
   ]
  },
  {
   "cell_type": "code",
   "execution_count": 92,
   "id": "373b2fe3-4f31-46a9-b1cf-0931bd92741b",
   "metadata": {},
   "outputs": [
    {
     "data": {
      "text/html": [
       "<div>\n",
       "<style scoped>\n",
       "    .dataframe tbody tr th:only-of-type {\n",
       "        vertical-align: middle;\n",
       "    }\n",
       "\n",
       "    .dataframe tbody tr th {\n",
       "        vertical-align: top;\n",
       "    }\n",
       "\n",
       "    .dataframe thead th {\n",
       "        text-align: right;\n",
       "    }\n",
       "</style>\n",
       "<table border=\"1\" class=\"dataframe\">\n",
       "  <thead>\n",
       "    <tr style=\"text-align: right;\">\n",
       "      <th></th>\n",
       "      <th>TelemetryCycle</th>\n",
       "      <th>OnBoardTime</th>\n",
       "      <th>Throttle1</th>\n",
       "      <th>Throttle2</th>\n",
       "      <th>Tachometer1</th>\n",
       "      <th>Tachometer2</th>\n",
       "      <th>Tachometer3</th>\n",
       "      <th>Tachometer4</th>\n",
       "      <th>MeasuredSpeed1</th>\n",
       "      <th>MeasuredSpeed2</th>\n",
       "      <th>MeasuredSpeed3</th>\n",
       "      <th>MeasuredSpeed4</th>\n",
       "      <th>SetpointSpeed1</th>\n",
       "      <th>SetpointSpeed2</th>\n",
       "      <th>StatusFlags</th>\n",
       "    </tr>\n",
       "  </thead>\n",
       "  <tbody>\n",
       "    <tr>\n",
       "      <th>0</th>\n",
       "      <td>97</td>\n",
       "      <td>58788</td>\n",
       "      <td>0.0</td>\n",
       "      <td>0.0</td>\n",
       "      <td>0</td>\n",
       "      <td>0</td>\n",
       "      <td>0</td>\n",
       "      <td>0</td>\n",
       "      <td>0.0</td>\n",
       "      <td>0.0</td>\n",
       "      <td>0.0</td>\n",
       "      <td>0.0</td>\n",
       "      <td>0.0</td>\n",
       "      <td>0.0</td>\n",
       "      <td>0</td>\n",
       "    </tr>\n",
       "    <tr>\n",
       "      <th>1</th>\n",
       "      <td>98</td>\n",
       "      <td>59397</td>\n",
       "      <td>0.0</td>\n",
       "      <td>0.0</td>\n",
       "      <td>0</td>\n",
       "      <td>0</td>\n",
       "      <td>0</td>\n",
       "      <td>0</td>\n",
       "      <td>0.0</td>\n",
       "      <td>0.0</td>\n",
       "      <td>0.0</td>\n",
       "      <td>0.0</td>\n",
       "      <td>0.0</td>\n",
       "      <td>0.0</td>\n",
       "      <td>0</td>\n",
       "    </tr>\n",
       "    <tr>\n",
       "      <th>2</th>\n",
       "      <td>99</td>\n",
       "      <td>59985</td>\n",
       "      <td>0.0</td>\n",
       "      <td>0.0</td>\n",
       "      <td>0</td>\n",
       "      <td>0</td>\n",
       "      <td>0</td>\n",
       "      <td>0</td>\n",
       "      <td>0.0</td>\n",
       "      <td>0.0</td>\n",
       "      <td>0.0</td>\n",
       "      <td>0.0</td>\n",
       "      <td>0.0</td>\n",
       "      <td>0.0</td>\n",
       "      <td>0</td>\n",
       "    </tr>\n",
       "    <tr>\n",
       "      <th>3</th>\n",
       "      <td>100</td>\n",
       "      <td>60594</td>\n",
       "      <td>0.0</td>\n",
       "      <td>0.0</td>\n",
       "      <td>0</td>\n",
       "      <td>0</td>\n",
       "      <td>0</td>\n",
       "      <td>0</td>\n",
       "      <td>0.0</td>\n",
       "      <td>0.0</td>\n",
       "      <td>0.0</td>\n",
       "      <td>0.0</td>\n",
       "      <td>0.0</td>\n",
       "      <td>0.0</td>\n",
       "      <td>0</td>\n",
       "    </tr>\n",
       "    <tr>\n",
       "      <th>4</th>\n",
       "      <td>101</td>\n",
       "      <td>61203</td>\n",
       "      <td>0.0</td>\n",
       "      <td>0.0</td>\n",
       "      <td>0</td>\n",
       "      <td>0</td>\n",
       "      <td>0</td>\n",
       "      <td>0</td>\n",
       "      <td>0.0</td>\n",
       "      <td>0.0</td>\n",
       "      <td>0.0</td>\n",
       "      <td>0.0</td>\n",
       "      <td>0.0</td>\n",
       "      <td>0.0</td>\n",
       "      <td>0</td>\n",
       "    </tr>\n",
       "  </tbody>\n",
       "</table>\n",
       "</div>"
      ],
      "text/plain": [
       "   TelemetryCycle  OnBoardTime  Throttle1  Throttle2  Tachometer1  \\\n",
       "0              97        58788        0.0        0.0            0   \n",
       "1              98        59397        0.0        0.0            0   \n",
       "2              99        59985        0.0        0.0            0   \n",
       "3             100        60594        0.0        0.0            0   \n",
       "4             101        61203        0.0        0.0            0   \n",
       "\n",
       "   Tachometer2  Tachometer3  Tachometer4  MeasuredSpeed1  MeasuredSpeed2  \\\n",
       "0            0            0            0             0.0             0.0   \n",
       "1            0            0            0             0.0             0.0   \n",
       "2            0            0            0             0.0             0.0   \n",
       "3            0            0            0             0.0             0.0   \n",
       "4            0            0            0             0.0             0.0   \n",
       "\n",
       "   MeasuredSpeed3  MeasuredSpeed4  SetpointSpeed1  SetpointSpeed2  StatusFlags  \n",
       "0             0.0             0.0             0.0             0.0            0  \n",
       "1             0.0             0.0             0.0             0.0            0  \n",
       "2             0.0             0.0             0.0             0.0            0  \n",
       "3             0.0             0.0             0.0             0.0            0  \n",
       "4             0.0             0.0             0.0             0.0            0  "
      ]
     },
     "execution_count": 92,
     "metadata": {},
     "output_type": "execute_result"
    }
   ],
   "source": [
    "motor_control_tm_df = pd.read_csv(os.path.join(vehicle.capture_path,\"tctm.telemetry.MotorControlTelemetry.csv\"))\n",
    "motor_control_tm_df.head(5)"
   ]
  },
  {
   "cell_type": "code",
   "execution_count": 113,
   "id": "b66ff4bf-4860-483b-9680-977e6d63b050",
   "metadata": {},
   "outputs": [
    {
     "data": {
      "text/html": [
       "<div>\n",
       "<style scoped>\n",
       "    .dataframe tbody tr th:only-of-type {\n",
       "        vertical-align: middle;\n",
       "    }\n",
       "\n",
       "    .dataframe tbody tr th {\n",
       "        vertical-align: top;\n",
       "    }\n",
       "\n",
       "    .dataframe thead th {\n",
       "        text-align: right;\n",
       "    }\n",
       "</style>\n",
       "<table border=\"1\" class=\"dataframe\">\n",
       "  <thead>\n",
       "    <tr style=\"text-align: right;\">\n",
       "      <th></th>\n",
       "      <th>TelemetryCycle</th>\n",
       "      <th>OnBoardTime</th>\n",
       "      <th>Roll</th>\n",
       "      <th>Pitch</th>\n",
       "      <th>Yaw</th>\n",
       "    </tr>\n",
       "  </thead>\n",
       "  <tbody>\n",
       "    <tr>\n",
       "      <th>0</th>\n",
       "      <td>12</td>\n",
       "      <td>7989</td>\n",
       "      <td>1.139863e-02</td>\n",
       "      <td>NaN</td>\n",
       "      <td>6.183207e-21</td>\n",
       "    </tr>\n",
       "    <tr>\n",
       "      <th>1</th>\n",
       "      <td>13</td>\n",
       "      <td>8598</td>\n",
       "      <td>-7.669461e-32</td>\n",
       "      <td>-8.447101e-18</td>\n",
       "      <td>3.061705e-31</td>\n",
       "    </tr>\n",
       "    <tr>\n",
       "      <th>2</th>\n",
       "      <td>14</td>\n",
       "      <td>9186</td>\n",
       "      <td>-4.412346e+32</td>\n",
       "      <td>2.359200e-32</td>\n",
       "      <td>-7.482552e-26</td>\n",
       "    </tr>\n",
       "    <tr>\n",
       "      <th>3</th>\n",
       "      <td>15</td>\n",
       "      <td>9795</td>\n",
       "      <td>-2.574852e+05</td>\n",
       "      <td>2.843585e-02</td>\n",
       "      <td>2.607552e-32</td>\n",
       "    </tr>\n",
       "    <tr>\n",
       "      <th>4</th>\n",
       "      <td>16</td>\n",
       "      <td>10383</td>\n",
       "      <td>-2.151764e-14</td>\n",
       "      <td>5.446352e-03</td>\n",
       "      <td>-5.454281e-29</td>\n",
       "    </tr>\n",
       "  </tbody>\n",
       "</table>\n",
       "</div>"
      ],
      "text/plain": [
       "   TelemetryCycle  OnBoardTime          Roll         Pitch           Yaw\n",
       "0              12         7989  1.139863e-02           NaN  6.183207e-21\n",
       "1              13         8598 -7.669461e-32 -8.447101e-18  3.061705e-31\n",
       "2              14         9186 -4.412346e+32  2.359200e-32 -7.482552e-26\n",
       "3              15         9795 -2.574852e+05  2.843585e-02  2.607552e-32\n",
       "4              16        10383 -2.151764e-14  5.446352e-03 -5.454281e-29"
      ]
     },
     "execution_count": 113,
     "metadata": {},
     "output_type": "execute_result"
    }
   ],
   "source": [
    "imu_tm_df = pd.read_csv(os.path.join(vehicle.capture_path,\"tctm.telemetry.IMUTelemetry.csv\"))\n",
    "imu_tm_df.head(5)"
   ]
  },
  {
   "cell_type": "code",
   "execution_count": 114,
   "id": "5ba9f187-fe1f-4edc-88c9-ae393dc41573",
   "metadata": {},
   "outputs": [
    {
     "data": {
      "image/png": "[encoded data removed]",
      "text/plain": [
       "<Figure size 1800x800 with 3 Axes>"
      ]
     },
     "metadata": {},
     "output_type": "display_data"
    }
   ],
   "source": [
    "fig,axes = plt.subplots(3,1,figsize=(18,8),sharex=True)\n",
    "axes[0].plot(imu_tm_df.OnBoardTime,imu_tm_df.Roll*57.2958)\n",
    "axes[0].grid(which=\"Both\")\n",
    "axes[1].plot(imu_tm_df.OnBoardTime,imu_tm_df.Pitch*57.2958)\n",
    "axes[1].grid(which=\"Both\")\n",
    "axes[2].plot(imu_tm_df.OnBoardTime,imu_tm_df.Yaw*57.2958)\n",
    "axes[2].grid(which=\"Both\")"
   ]
  },
  {
   "cell_type": "markdown",
   "id": "81526260-55c9-44e8-9b1e-9af8b19cfb0d",
   "metadata": {},
   "source": [
    "## Teardown"
   ]
  },
  {
   "cell_type": "code",
   "execution_count": null,
   "id": "fd5c4f6f-ad13-40ed-9129-1b18454eabde",
   "metadata": {},
   "outputs": [],
   "source": [
    "vehicle.shutdown()"
   ]
  }
 ],
 "metadata": {
  "kernelspec": {
   "display_name": "Python 3 (ipykernel)",
   "language": "python",
   "name": "python3"
  },
  "language_info": {
   "codemirror_mode": {
    "name": "ipython",
    "version": 3
   },
   "file_extension": ".py",
   "mimetype": "text/x-python",
   "name": "python",
   "nbconvert_exporter": "python",
   "pygments_lexer": "ipython3",
   "version": "3.8.8"
  }
 },
 "nbformat": 4,
 "nbformat_minor": 5
}
