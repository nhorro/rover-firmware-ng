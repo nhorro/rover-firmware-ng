{
 "cells": [
  {
   "cell_type": "markdown",
   "id": "82dbca0a-4753-4896-b52d-fd99bcec273c",
   "metadata": {},
   "source": [
    "# Proxy communication\n",
    "\n",
    "Direct communication allows to control the Rover using a UART (serial) interface. This is useful for bench tests, but unsuitable for operation, as the control station runs in a computer that is not the onboard computer.\n",
    "\n",
    "To keep the same interface, the proxy concept is used.\n",
    "\n",
    "~~~\n",
    "ZMQ TCP/IP:\n",
    "\n",
    "VehicleIF (ProxyClient) <--- ZMQ TCP/IP ----> VehicleIF (ProxyServer) <--- UART ----> Serial\n",
    "\n",
    "UDP:\n",
    "\n",
    "VehicleIF (ProxyClient) <--- ZMQ TCP/IP ----> VehicleIF (ProxyServer) <--- UART ----> Serial\n",
    "~~~\n",
    "\n",
    "This procedure describes minimal connectivity test using the proxy communication mode."
   ]
  },
  {
   "cell_type": "code",
   "execution_count": null,
   "id": "9da95067-3c0b-48a1-96c9-f5fa9d9dfe7e",
   "metadata": {},
   "outputs": [],
   "source": [
    "%load_ext autoreload\n",
    "%autoreload 2"
   ]
  },
  {
   "cell_type": "code",
   "execution_count": null,
   "id": "8ab20dd7-1ecd-4101-b6ca-635cbbc81411",
   "metadata": {},
   "outputs": [],
   "source": [
    "import sys\n",
    "sys.path.append(\"../\")\n",
    "from rover.vehicleif import VehicleIF"
   ]
  },
  {
   "cell_type": "markdown",
   "id": "62f45635-a95a-43eb-828f-5148fecf3be9",
   "metadata": {
    "tags": []
   },
   "source": [
    "## Connection"
   ]
  },
  {
   "cell_type": "code",
   "execution_count": null,
   "id": "0c082de5-2e4c-405f-a5b1-dfe37b8effdd",
   "metadata": {},
   "outputs": [],
   "source": [
    "GROUNDSTATION_HOST = \"localhost\"\n",
    "GROUNDSTATION_PORT = 5557\n",
    "VEHICLE_HOST = \"localhost\"\n",
    "VEHICLE_PORT = 5558"
   ]
  },
  {
   "cell_type": "markdown",
   "id": "a3738309-9a6d-4c57-9a3b-5e9995a00caa",
   "metadata": {},
   "source": [
    "### Vehicle side"
   ]
  },
  {
   "cell_type": "code",
   "execution_count": null,
   "id": "e67a456e-b1c9-4b25-8212-615b4c970570",
   "metadata": {},
   "outputs": [],
   "source": [
    "!ls /dev/ttyACM*"
   ]
  },
  {
   "cell_type": "code",
   "execution_count": null,
   "id": "a2e75070-1c6c-4c71-9004-ba64c6365e53",
   "metadata": {},
   "outputs": [],
   "source": [
    "connection_params_vehicle_proxy = {\n",
    "    \"mode\": VehicleIF.MODE_PROXY_VEHICLE,\n",
    "    \n",
    "    # Vehicle side needs access to the serial device\n",
    "    \"port\": \"/dev/ttyACM0\",\n",
    "    \"baudrate\": 115200,\n",
    "    \n",
    "    \"vehicle_port\": VEHICLE_PORT,\n",
    "    \"groundstation_host\": GROUNDSTATION_HOST,\n",
    "    \"groundstation_port\": GROUNDSTATION_PORT\n",
    "}\n",
    "\n",
    "vehicle_proxy = VehicleIF(connection_params_vehicle_proxy,debug=False)\n",
    "vehicle_proxy.capture_path = \"./captures\""
   ]
  },
  {
   "cell_type": "markdown",
   "id": "dad7c161-2273-4d87-b687-6ecf99834fdd",
   "metadata": {},
   "source": [
    "### Ground control station side"
   ]
  },
  {
   "cell_type": "code",
   "execution_count": null,
   "id": "59d602ef-6efc-4149-b030-127eaf01df97",
   "metadata": {},
   "outputs": [],
   "source": [
    "connection_params = {\n",
    "    \"mode\": VehicleIF.MODE_PROXY_GROUND,\n",
    "   \n",
    "    \"groundstation_port\": GROUNDSTATION_PORT,\n",
    "    \"vehicle_host\": VEHICLE_HOST,\n",
    "    \"vehicle_port\": VEHICLE_PORT\n",
    "}\n",
    "\n",
    "vehicle = VehicleIF(connection_params,debug=False)\n",
    "vehicle.capture_path = \"./captures\""
   ]
  },
  {
   "cell_type": "markdown",
   "id": "68cffba3-85da-41c2-b350-3291fd64ca8f",
   "metadata": {},
   "source": [
    "## Operation"
   ]
  },
  {
   "cell_type": "code",
   "execution_count": null,
   "id": "8774ef14-5740-4ccc-a850-7ea11035fcf7",
   "metadata": {},
   "outputs": [],
   "source": [
    "vehicle.print_telemetry()"
   ]
  },
  {
   "cell_type": "code",
   "execution_count": null,
   "id": "122a21ed-bdff-44c3-ab03-b8fc7e316d73",
   "metadata": {},
   "outputs": [],
   "source": [
    "# Led on\n",
    "vehicle.control_led(0x00000001)"
   ]
  },
  {
   "cell_type": "code",
   "execution_count": null,
   "id": "4f93c1b1-f937-453d-841b-11e2f60e564c",
   "metadata": {},
   "outputs": [],
   "source": [
    "# Led off\n",
    "vehicle.control_led(0x00000000)"
   ]
  },
  {
   "cell_type": "markdown",
   "id": "a088bf82-7ec5-41a9-a014-ecd6d3cfa6c2",
   "metadata": {},
   "source": [
    "## Teardown"
   ]
  },
  {
   "cell_type": "code",
   "execution_count": null,
   "id": "86a278d5-cacd-42ab-baf7-051f976c6fd4",
   "metadata": {},
   "outputs": [],
   "source": [
    "vehicle_proxy.disconnect()\n",
    "vehicle.disconnect()"
   ]
  }
 ],
 "metadata": {
  "kernelspec": {
   "display_name": "Python 3 (ipykernel)",
   "language": "python",
   "name": "python3"
  },
  "language_info": {
   "codemirror_mode": {
    "name": "ipython",
    "version": 3
   },
   "file_extension": ".py",
   "mimetype": "text/x-python",
   "name": "python",
   "nbconvert_exporter": "python",
   "pygments_lexer": "ipython3",
   "version": "3.8.8"
  }
 },
 "nbformat": 4,
 "nbformat_minor": 5
}
