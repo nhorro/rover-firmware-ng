{
 "cells": [
  {
   "cell_type": "markdown",
   "id": "5a3bb648-6694-4f19-8e5d-92a029e70062",
   "metadata": {},
   "source": [
    "# Motor Control Bench Test Procedure\n",
    "\n",
    "This notebook describes a procedure that exercises the following functionality:\n",
    "\n",
    "1. Tachometers.\n",
    "2. Arm/disarm and manual motor control.\n",
    "3. Speed measurement.\n",
    "4. PID motor control."
   ]
  },
  {
   "cell_type": "code",
   "execution_count": 1,
   "id": "1b88de54-7a08-4a7e-be9c-40aea391032d",
   "metadata": {},
   "outputs": [],
   "source": [
    "%load_ext autoreload\n",
    "%autoreload 2"
   ]
  },
  {
   "cell_type": "markdown",
   "id": "e305d986-33ad-45d5-b168-aab4782a258c",
   "metadata": {
    "tags": []
   },
   "source": [
    "## Vehicle part identification and orientation conventions\n",
    "\n",
    "![img](./Assets/RoverInTestBenchTopView.jpeg)"
   ]
  },
  {
   "cell_type": "markdown",
   "id": "75155630-9cab-46d8-b027-c452053b8b43",
   "metadata": {},
   "source": [
    "### Connection to vehicle and health check"
   ]
  },
  {
   "cell_type": "markdown",
   "id": "cf058cd2-a076-4ea7-8639-0dbc408b09b8",
   "metadata": {},
   "source": [
    "Find which port is the vehicle connected to.\n",
    "In linux, usually it is:\n",
    "\n",
    "- **Development mode (STM32 UART3 / USB)**: ttyACM0, ttyACM1, ...\n",
    "- **Production mode (STM32 UART 1)**: ttyUSB0, ttyUSB1, ...\n",
    "\n",
    "Development/production mode must match the UartTcTmHandle parameter chosen when building firmware:\n",
    "\n",
    "~~~c++\n",
    "/* USER CODE END Header_DefaultTaskMain */\n",
    "void DefaultTaskMain(void *argument)\n",
    "{\n",
    "  /* USER CODE BEGIN 5 */\n",
    "\tConfig.UartTcTmHandle = &huart3; // Development mode\n",
    "\t//Config.UartTcTmHandle = &huart1; // Production mode\n",
    "    \n",
    "    /* ... */\n",
    "    \n",
    "\tApplicationMain(&Config);\n",
    "  /* USER CODE END 5 */\n",
    "}\n",
    "~~~"
   ]
  },
  {
   "cell_type": "code",
   "execution_count": null,
   "id": "292a315c-4330-4358-b256-f11c579fd516",
   "metadata": {},
   "outputs": [],
   "source": [
    "!ls /dev/ttyUSB*"
   ]
  },
  {
   "cell_type": "code",
   "execution_count": 2,
   "id": "5f47bf11-c938-4382-bc96-e207ea6af5f1",
   "metadata": {},
   "outputs": [
    {
     "name": "stdout",
     "output_type": "stream",
     "text": [
      "/dev/ttyACM0\n"
     ]
    }
   ],
   "source": [
    "!ls /dev/ttyACM*"
   ]
  },
  {
   "cell_type": "code",
   "execution_count": 3,
   "id": "31571081-5b78-40d7-ba11-658ae6e92338",
   "metadata": {},
   "outputs": [],
   "source": [
    "import sys\n",
    "sys.path.append(\"../\")\n",
    "from rover.vehicleif import VehicleIF\n",
    "\n",
    "#VEHICLE_UART_TCTM_PORT = \"/dev/ttyUSB1\" # Production mode\n",
    "VEHICLE_UART_TCTM_PORT = \"/dev/ttyACM0\" # Development mode\n",
    "\n",
    "connection_params = {\n",
    "    \"mode\": VehicleIF.MODE_DIRECT_SERIAL,\n",
    "    \"port\": VEHICLE_UART_TCTM_PORT,\n",
    "    \"baudrate\": 115200\n",
    "}\n",
    "\n",
    "vehicle = VehicleIF(connection_params,debug=False)\n",
    "vehicle.capture_path = \"./captures\""
   ]
  },
  {
   "cell_type": "markdown",
   "id": "f92e8e47-fda9-4892-967e-d94cc53e9bb5",
   "metadata": {},
   "source": [
    "For a quick health check, see current telemetry state:"
   ]
  },
  {
   "cell_type": "code",
   "execution_count": 4,
   "id": "6fdccc8b-3a80-4a28-992e-cddd87fcea91",
   "metadata": {},
   "outputs": [
    {
     "name": "stdout",
     "output_type": "stream",
     "text": [
      "General Telemetry\n",
      "   TelemetryCycle: 70\n",
      "   OnBoardTime: 42004\n",
      "   ReceivedPackets: 0\n",
      "   GeneralStatus: 0x00000000\n",
      "   Debug1: 0x00000000\n",
      "   Debug2: 0x00000000\n",
      "Motor Telemetry\n",
      "   TelemetryCycle: 70\n",
      "   OnBoardTime: 42004\n",
      "   Throttle1: 0.0\n",
      "   Throttle2: 0.0\n",
      "   Tachometer1: 0\n",
      "   Tachometer2: 0\n",
      "   Tachometer3: 0\n",
      "   Tachometer4: 0\n",
      "   MeasuredSpeed1: 0.0\n",
      "   MeasuredSpeed2: 0.0\n",
      "   MeasuredSpeed3: 0.0\n",
      "   MeasuredSpeed4: 0.0\n",
      "   SetpointSpeed1: 0.0\n",
      "   SetpointSpeed2: 0.0\n",
      "   StatusFlags: 0x00000000\n",
      "IMU Telemetry\n",
      "   TelemetryCycle: 0\n",
      "   OnBoardTime: 0\n",
      "   Roll: 0.0\n",
      "   Pitch: 0.0\n",
      "   Yaw: 0.0\n"
     ]
    }
   ],
   "source": [
    "vehicle.print_telemetry()"
   ]
  },
  {
   "cell_type": "markdown",
   "id": "16a6cf78-3bb5-4c5b-9fdf-cd80a9f940d0",
   "metadata": {},
   "source": [
    "For a quick command test, turn on and off led."
   ]
  },
  {
   "cell_type": "code",
   "execution_count": 5,
   "id": "7d031e29-1987-4055-9074-3927a676260a",
   "metadata": {},
   "outputs": [
    {
     "name": "stdout",
     "output_type": "stream",
     "text": [
      "Sent: 0x 40 3C 05 00 00 00 00 01 A2 0A  (10 bytes)\n"
     ]
    }
   ],
   "source": [
    "# Led on\n",
    "vehicle.control_led(0x00000001)"
   ]
  },
  {
   "cell_type": "code",
   "execution_count": 6,
   "id": "c6504014-4341-4a1e-900d-3b16c5ea8b75",
   "metadata": {},
   "outputs": [
    {
     "name": "stdout",
     "output_type": "stream",
     "text": [
      "Sent: 0x 40 3C 05 00 00 00 00 00 93 0A  (10 bytes)\n"
     ]
    }
   ],
   "source": [
    "# Led off\n",
    "vehicle.control_led(0x00000000)"
   ]
  },
  {
   "cell_type": "markdown",
   "id": "4a7562db-4894-4111-a7d4-15fd6e1c62c8",
   "metadata": {},
   "source": [
    "## Procedure"
   ]
  },
  {
   "cell_type": "markdown",
   "id": "b6bc5cc7-d927-4bac-a2ab-618b1721b21e",
   "metadata": {},
   "source": [
    "### 1. Tachometer readings\n",
    "\n",
    "**Preconditions**\n",
    "\n",
    "- Reset the vehicle to ensure all tachometer readings are at zero."
   ]
  },
  {
   "cell_type": "code",
   "execution_count": 7,
   "id": "206a70cb-ce4c-4c8b-9631-d3fbfa17275d",
   "metadata": {},
   "outputs": [
    {
     "name": "stdout",
     "output_type": "stream",
     "text": [
      "General Telemetry\n",
      "   TelemetryCycle: 87\n",
      "   OnBoardTime: 52204\n",
      "   ReceivedPackets: 2\n",
      "   GeneralStatus: 0x01000000\n",
      "   Debug1: 0x00000000\n",
      "   Debug2: 0x00000000\n",
      "Motor Telemetry\n",
      "   TelemetryCycle: 87\n",
      "   OnBoardTime: 52204\n",
      "   Throttle1: 0.0\n",
      "   Throttle2: 0.0\n",
      "   Tachometer1: 0\n",
      "   Tachometer2: 0\n",
      "   Tachometer3: 0\n",
      "   Tachometer4: 0\n",
      "   MeasuredSpeed1: 0.0\n",
      "   MeasuredSpeed2: 0.0\n",
      "   MeasuredSpeed3: 0.0\n",
      "   MeasuredSpeed4: 0.0\n",
      "   SetpointSpeed1: 0.0\n",
      "   SetpointSpeed2: 0.0\n",
      "   StatusFlags: 0x00000000\n",
      "IMU Telemetry\n",
      "   TelemetryCycle: 0\n",
      "   OnBoardTime: 0\n",
      "   Roll: 0.0\n",
      "   Pitch: 0.0\n",
      "   Yaw: 0.0\n"
     ]
    }
   ],
   "source": [
    "vehicle.print_telemetry()"
   ]
  },
  {
   "cell_type": "markdown",
   "id": "fd26ba04-66ea-4fcc-9f35-a1f885b7fed6",
   "metadata": {},
   "source": [
    "Start logging telemetry."
   ]
  },
  {
   "cell_type": "code",
   "execution_count": null,
   "id": "56bfe56a-6268-4a47-952b-140735b055b3",
   "metadata": {},
   "outputs": [],
   "source": [
    "vehicle.start_telemetry_csv_logging()"
   ]
  },
  {
   "cell_type": "code",
   "execution_count": null,
   "id": "f5c3fa5d-6b68-49c0-b235-063113049c03",
   "metadata": {},
   "outputs": [],
   "source": [
    "input(\"Move wheels and press any key when done\")"
   ]
  },
  {
   "cell_type": "markdown",
   "id": "f8ec89f2-a98b-44d2-95a0-f6b296d1385d",
   "metadata": {},
   "source": [
    "- Move wheel 1.\n",
    "- Move wheel 2.\n",
    "- Move wheel 3.\n",
    "- Move wheel 4."
   ]
  },
  {
   "cell_type": "markdown",
   "id": "57919b98-4193-45f1-a9b3-1379ce96243b",
   "metadata": {},
   "source": [
    "Stop logging telemetry."
   ]
  },
  {
   "cell_type": "code",
   "execution_count": null,
   "id": "2d121444-694e-4c50-b620-469758f6bdbb",
   "metadata": {},
   "outputs": [],
   "source": [
    "vehicle.stop_telemetry_csv_logging()"
   ]
  },
  {
   "cell_type": "code",
   "execution_count": null,
   "id": "557266c4-2d47-49f8-b8b2-97e5cd2e6427",
   "metadata": {},
   "outputs": [],
   "source": [
    "!ls {vehicle.capture_path}"
   ]
  },
  {
   "cell_type": "code",
   "execution_count": null,
   "id": "5ce9da82-ffb8-4546-929c-3c92b6df90eb",
   "metadata": {},
   "outputs": [],
   "source": [
    "import os\n",
    "import pandas as pd\n",
    "import matplotlib.pyplot as plt\n",
    "\n",
    "motor_control_tm_df = pd.read_csv(os.path.join(vehicle.capture_path,\"tctm.telemetry.MotorControlTelemetry.csv\"))\n",
    "motor_control_tm_df.head(5)"
   ]
  },
  {
   "cell_type": "code",
   "execution_count": null,
   "id": "21e340c3-de95-4b92-a1f7-6147366acbe6",
   "metadata": {},
   "outputs": [],
   "source": [
    "fig, axes = plt.subplots(1,1,figsize=(18,4))\n",
    "axes.plot(motor_control_tm_df.Tachometer1)\n",
    "axes.plot(motor_control_tm_df.Tachometer2)\n",
    "axes.plot(motor_control_tm_df.Tachometer3)\n",
    "axes.plot(motor_control_tm_df.Tachometer4)\n",
    "axes.grid(which=\"Both\")\n",
    "axes.set_xlabel(\"Report index\")\n",
    "axes.set_ylabel(\"Tachometer tick count\")\n",
    "axes.legend([\"Tachometer 1\",\"Tachometer 2\",\"Tachometer 3\",\"Tachometer 4\"])\n",
    "axes.set_title(\"Tachometer readings\");"
   ]
  },
  {
   "cell_type": "markdown",
   "id": "feca0d39-9c93-4164-8b84-36dabffcf92d",
   "metadata": {},
   "source": [
    "### 2. Manual motor control"
   ]
  },
  {
   "cell_type": "code",
   "execution_count": 8,
   "id": "1eb99ec5-69cb-41e2-adb9-826d88e80ada",
   "metadata": {},
   "outputs": [
    {
     "name": "stdout",
     "output_type": "stream",
     "text": [
      "General Telemetry\n",
      "   TelemetryCycle: 186\n",
      "   OnBoardTime: 111604\n",
      "   ReceivedPackets: 2\n",
      "   GeneralStatus: 0x01000000\n",
      "   Debug1: 0x00000000\n",
      "   Debug2: 0x00000000\n",
      "Motor Telemetry\n",
      "   TelemetryCycle: 186\n",
      "   OnBoardTime: 111604\n",
      "   Throttle1: 0.0\n",
      "   Throttle2: 0.0\n",
      "   Tachometer1: 0\n",
      "   Tachometer2: 0\n",
      "   Tachometer3: 0\n",
      "   Tachometer4: 0\n",
      "   MeasuredSpeed1: 0.0\n",
      "   MeasuredSpeed2: 0.0\n",
      "   MeasuredSpeed3: 0.0\n",
      "   MeasuredSpeed4: 0.0\n",
      "   SetpointSpeed1: 0.0\n",
      "   SetpointSpeed2: 0.0\n",
      "   StatusFlags: 0x00000000\n",
      "IMU Telemetry\n",
      "   TelemetryCycle: 0\n",
      "   OnBoardTime: 0\n",
      "   Roll: 0.0\n",
      "   Pitch: 0.0\n",
      "   Yaw: 0.0\n"
     ]
    }
   ],
   "source": [
    "vehicle.print_telemetry()"
   ]
  },
  {
   "cell_type": "markdown",
   "id": "24a34333-7079-4a66-b28a-af2073f75831",
   "metadata": {},
   "source": [
    "Attempt to start motor when disarmed (should fail)."
   ]
  },
  {
   "cell_type": "code",
   "execution_count": 9,
   "id": "1007fd4c-3f3b-4a70-ae78-21eb71896b10",
   "metadata": {},
   "outputs": [
    {
     "name": "stdout",
     "output_type": "stream",
     "text": [
      "Sent: 0x 40 3C 0D 01 00 00 00 01 3F 00 00 00 00 00 00 00 CC 0A  (18 bytes)\n"
     ]
    }
   ],
   "source": [
    "vehicle.set_motor_throttles(0.5,0.0,0x1)"
   ]
  },
  {
   "cell_type": "code",
   "execution_count": 10,
   "id": "c2b82c2e-eba5-4170-9c57-5075b9cde7d9",
   "metadata": {},
   "outputs": [
    {
     "name": "stdout",
     "output_type": "stream",
     "text": [
      "General Telemetry\n",
      "   TelemetryCycle: 197\n",
      "   OnBoardTime: 118204\n",
      "   ReceivedPackets: 3\n",
      "   GeneralStatus: 0x00010000\n",
      "   Debug1: 0x00000000\n",
      "   Debug2: 0x00000000\n",
      "Motor Telemetry\n",
      "   TelemetryCycle: 196\n",
      "   OnBoardTime: 117604\n",
      "   Throttle1: 0.0\n",
      "   Throttle2: 0.0\n",
      "   Tachometer1: 0\n",
      "   Tachometer2: 0\n",
      "   Tachometer3: 0\n",
      "   Tachometer4: 0\n",
      "   MeasuredSpeed1: 0.0\n",
      "   MeasuredSpeed2: 0.0\n",
      "   MeasuredSpeed3: 0.0\n",
      "   MeasuredSpeed4: 0.0\n",
      "   SetpointSpeed1: 0.0\n",
      "   SetpointSpeed2: 0.0\n",
      "   StatusFlags: 0x00000000\n",
      "IMU Telemetry\n",
      "   TelemetryCycle: 0\n",
      "   OnBoardTime: 0\n",
      "   Roll: 0.0\n",
      "   Pitch: 0.0\n",
      "   Yaw: 0.0\n"
     ]
    }
   ],
   "source": [
    "vehicle.print_telemetry()"
   ]
  },
  {
   "cell_type": "markdown",
   "id": "80a61504-d676-4279-ad89-c51b08b0212c",
   "metadata": {},
   "source": [
    "Arm in manual mode."
   ]
  },
  {
   "cell_type": "code",
   "execution_count": 11,
   "id": "340ab128-99fb-4016-a23b-6df4167f24b9",
   "metadata": {},
   "outputs": [
    {
     "name": "stdout",
     "output_type": "stream",
     "text": [
      "Sent: 0x 40 3C 05 03 00 00 00 01 E6 0A  (10 bytes)\n"
     ]
    }
   ],
   "source": [
    "vehicle.set_motor_control_mode(VehicleIF.MOTOR_MODE_ARM_MANUAL)"
   ]
  },
  {
   "cell_type": "code",
   "execution_count": 12,
   "id": "33019fd6-e84e-46e3-b66f-2d7a60e389db",
   "metadata": {},
   "outputs": [
    {
     "name": "stdout",
     "output_type": "stream",
     "text": [
      "General Telemetry\n",
      "   TelemetryCycle: 206\n",
      "   OnBoardTime: 123604\n",
      "   ReceivedPackets: 4\n",
      "   GeneralStatus: 0x01030001\n",
      "   Debug1: 0x00000000\n",
      "   Debug2: 0x00000000\n",
      "Motor Telemetry\n",
      "   TelemetryCycle: 206\n",
      "   OnBoardTime: 123604\n",
      "   Throttle1: 0.0\n",
      "   Throttle2: 0.0\n",
      "   Tachometer1: 0\n",
      "   Tachometer2: 0\n",
      "   Tachometer3: 0\n",
      "   Tachometer4: 0\n",
      "   MeasuredSpeed1: 0.0\n",
      "   MeasuredSpeed2: 0.0\n",
      "   MeasuredSpeed3: 0.0\n",
      "   MeasuredSpeed4: 0.0\n",
      "   SetpointSpeed1: 0.0\n",
      "   SetpointSpeed2: 0.0\n",
      "   StatusFlags: 0x00000001\n",
      "IMU Telemetry\n",
      "   TelemetryCycle: 0\n",
      "   OnBoardTime: 0\n",
      "   Roll: 0.0\n",
      "   Pitch: 0.0\n",
      "   Yaw: 0.0\n"
     ]
    }
   ],
   "source": [
    "vehicle.print_telemetry()"
   ]
  },
  {
   "cell_type": "markdown",
   "id": "d921351c-92d1-4e21-8503-a8df3c038723",
   "metadata": {},
   "source": [
    "Check vehicle right side moves forward."
   ]
  },
  {
   "cell_type": "code",
   "execution_count": 13,
   "id": "4763f2d7-b5f5-4926-893a-5284653252b4",
   "metadata": {},
   "outputs": [
    {
     "name": "stdout",
     "output_type": "stream",
     "text": [
      "Sent: 0x 40 3C 0D 01 00 00 00 01 3F 00 00 00 00 00 00 00 CC 0A  (18 bytes)\n"
     ]
    }
   ],
   "source": [
    "vehicle.set_motor_throttles(0.5,0.0,0x1)"
   ]
  },
  {
   "cell_type": "markdown",
   "id": "c96646ab-d7ad-4f33-b8cc-fdf827f94e1d",
   "metadata": {},
   "source": [
    "Check vehicle right side moves backward."
   ]
  },
  {
   "cell_type": "code",
   "execution_count": 14,
   "id": "1d2a2925-52c0-420c-ab5c-4791e17045c7",
   "metadata": {},
   "outputs": [
    {
     "name": "stdout",
     "output_type": "stream",
     "text": [
      "Sent: 0x 40 3C 0D 01 00 00 00 01 BF 00 00 00 00 00 00 00 0E 0A  (18 bytes)\n"
     ]
    }
   ],
   "source": [
    "vehicle.set_motor_throttles(-0.5,0.0,0x1)"
   ]
  },
  {
   "cell_type": "markdown",
   "id": "cba13f54-aaa0-449a-b57a-c69a1c61d32a",
   "metadata": {},
   "source": [
    "Stop."
   ]
  },
  {
   "cell_type": "code",
   "execution_count": 15,
   "id": "15347e33-6382-4040-b682-e74191f9f65d",
   "metadata": {},
   "outputs": [
    {
     "name": "stdout",
     "output_type": "stream",
     "text": [
      "Sent: 0x 40 3C 0D 01 00 00 00 01 00 00 00 00 00 00 00 00 D4 0A  (18 bytes)\n"
     ]
    }
   ],
   "source": [
    "vehicle.set_motor_throttles(0.0,0.0,0x1)"
   ]
  },
  {
   "cell_type": "markdown",
   "id": "983489eb-7da4-4fae-9bb7-e873bb5b6901",
   "metadata": {},
   "source": [
    "Check vehicle left side moves backward."
   ]
  },
  {
   "cell_type": "code",
   "execution_count": 16,
   "id": "67d11316-9009-4784-914b-d4d6ce361ab5",
   "metadata": {},
   "outputs": [
    {
     "name": "stdout",
     "output_type": "stream",
     "text": [
      "Sent: 0x 40 3C 0D 01 00 00 00 02 00 00 00 00 3F 00 00 00 FC 0A  (18 bytes)\n"
     ]
    }
   ],
   "source": [
    "vehicle.set_motor_throttles(0.0,0.5,0x2)"
   ]
  },
  {
   "cell_type": "markdown",
   "id": "aff014bd-672a-455f-8ad3-910b6115e397",
   "metadata": {},
   "source": [
    "Check vehicle left side moves backward."
   ]
  },
  {
   "cell_type": "code",
   "execution_count": 17,
   "id": "110b04bf-63ae-4d71-9ff2-d30ff34983ea",
   "metadata": {},
   "outputs": [
    {
     "name": "stdout",
     "output_type": "stream",
     "text": [
      "Sent: 0x 40 3C 0D 01 00 00 00 02 00 00 00 00 BF 00 00 00 0D 0A  (18 bytes)\n"
     ]
    }
   ],
   "source": [
    "vehicle.set_motor_throttles(0.0,-0.5,0x2)"
   ]
  },
  {
   "cell_type": "markdown",
   "id": "b64b3edc-ee7f-4a69-b649-9bcc9108e148",
   "metadata": {},
   "source": [
    "Both sides forward."
   ]
  },
  {
   "cell_type": "code",
   "execution_count": 18,
   "id": "d7962594-3e2d-4e5a-b0fe-0c88a85235e5",
   "metadata": {},
   "outputs": [
    {
     "name": "stdout",
     "output_type": "stream",
     "text": [
      "Sent: 0x 40 3C 0D 01 00 00 00 03 3F 00 00 00 3F 00 00 00 51 0A  (18 bytes)\n"
     ]
    }
   ],
   "source": [
    "vehicle.set_motor_throttles(0.5,0.5,0x3)"
   ]
  },
  {
   "cell_type": "markdown",
   "id": "8427ec29-0464-42af-8826-31e2994085d7",
   "metadata": {},
   "source": [
    "Both sides backward."
   ]
  },
  {
   "cell_type": "code",
   "execution_count": 19,
   "id": "2dd7d10b-ed6a-46f3-ab3e-0fdc61aaf043",
   "metadata": {},
   "outputs": [
    {
     "name": "stdout",
     "output_type": "stream",
     "text": [
      "Sent: 0x 40 3C 0D 01 00 00 00 03 BF 00 00 00 BF 00 00 00 62 0A  (18 bytes)\n"
     ]
    }
   ],
   "source": [
    "vehicle.set_motor_throttles(-0.5,-0.5,0x3)"
   ]
  },
  {
   "cell_type": "markdown",
   "id": "eedf5a1e-59b9-4c99-8747-0961db9d30fc",
   "metadata": {},
   "source": [
    "Disarm."
   ]
  },
  {
   "cell_type": "code",
   "execution_count": 20,
   "id": "1b79a5f8-7ba9-4017-9836-c82e049eaec3",
   "metadata": {},
   "outputs": [
    {
     "name": "stdout",
     "output_type": "stream",
     "text": [
      "Sent: 0x 40 3C 05 03 00 00 00 00 D7 0A  (10 bytes)\n"
     ]
    },
    {
     "name": "stderr",
     "output_type": "stream",
     "text": [
      "Exception in thread Thread-5:\n",
      "Traceback (most recent call last):\n",
      "  File \"/home/nhorro/anaconda3/lib/python3.8/threading.py\", line 932, in _bootstrap_inner\n",
      "    self.run()\n",
      "  File \"/home/nhorro/anaconda3/lib/python3.8/threading.py\", line 870, in run\n",
      "    self._target(*self._args, **self._kwargs)\n",
      "  File \"../rover/endpoint/serialif.py\", line 36, in _listen\n",
      "    if self.serial and self.serial.is_open and self.serial.in_waiting:\n",
      "  File \"/home/nhorro/anaconda3/lib/python3.8/site-packages/serial/serialposix.py\", line 549, in in_waiting\n",
      "    s = fcntl.ioctl(self.fd, TIOCINQ, TIOCM_zero_str)\n",
      "OSError: [Errno 5] Input/output error\n"
     ]
    }
   ],
   "source": [
    "vehicle.set_motor_control_mode(VehicleIF.MOTOR_MODE_DISARM)"
   ]
  },
  {
   "cell_type": "markdown",
   "id": "695c7047-fd01-4040-84b2-dffa9253a5f7",
   "metadata": {},
   "source": [
    "### 3. Speed measurement"
   ]
  },
  {
   "cell_type": "code",
   "execution_count": null,
   "id": "f063921f-40ad-40c7-8363-3ec03db2b1ae",
   "metadata": {},
   "outputs": [],
   "source": [
    "import numpy as np\n",
    "import time"
   ]
  },
  {
   "cell_type": "code",
   "execution_count": null,
   "id": "663d8d7c-22c5-4af5-94de-03578d171d9c",
   "metadata": {},
   "outputs": [],
   "source": [
    "MIN_ABS_THROTTLE=0.0\n",
    "MAX_ABS_THROTTLE=1.0\n",
    "N_SAMPLES = 32\n",
    "INTERVAL_IN_S = 1.0\n",
    "SUSTAIN_INTERVAL_IN_S = 5.0"
   ]
  },
  {
   "cell_type": "code",
   "execution_count": null,
   "id": "0f56be9e-ef8a-4187-9b4f-02878ef98cec",
   "metadata": {},
   "outputs": [],
   "source": [
    "def do_motor_curve(vehicle, min_value, max_value, n_samples, interval, side):\n",
    "    for throttle in np.linspace(min_value,max_value,n_samples):\n",
    "        if side == 'left':\n",
    "            vehicle.set_motor_throttles(throttle,0.0,0x1)\n",
    "        elif side == 'right':\n",
    "            vehicle.set_motor_throttles(0.0, throttle, 0x2)\n",
    "        else:\n",
    "            vehicle.set_motor_throttles(throttle,throttle,0x3)\n",
    "        time.sleep(interval)"
   ]
  },
  {
   "cell_type": "code",
   "execution_count": null,
   "id": "f2390ef5-5a86-4050-b2eb-315f589aba9d",
   "metadata": {},
   "outputs": [],
   "source": [
    "def perform_motor_test(vehicle, min_abs_throttle, max_abs_throttle, n_samples, interval, sustain_interval, side):\n",
    "    # Start logging\n",
    "    vehicle.start_telemetry_csv_logging()\n",
    "\n",
    "    # Arm \n",
    "    vehicle.set_motor_control_mode(VehicleIF.MOTOR_MODE_ARM_MANUAL)\n",
    "    time.sleep(0.5)\n",
    "\n",
    "    # Ramp up\n",
    "    do_motor_curve(vehicle, min_abs_throttle, max_abs_throttle, n_samples, interval, side)\n",
    "    # Sustain\n",
    "    time.sleep(sustain_interval)\n",
    "    # Ramp down\n",
    "    do_motor_curve(vehicle, max_abs_throttle, min_abs_throttle, n_samples, interval, side)\n",
    "\n",
    "    # Disarm\n",
    "    vehicle.set_motor_control_mode(VehicleIF.MOTOR_MODE_DISARM)\n",
    "\n",
    "    # Stop logging\n",
    "    vehicle.stop_telemetry_csv_logging()"
   ]
  },
  {
   "cell_type": "markdown",
   "id": "dabc2de9-80e8-46a6-9644-02c67502b1cb",
   "metadata": {},
   "source": [
    "#### 3.1 Left side"
   ]
  },
  {
   "cell_type": "code",
   "execution_count": null,
   "id": "4a58ffff-3b48-4dff-9e71-1704456dd9bf",
   "metadata": {},
   "outputs": [],
   "source": [
    "SIDE = \"left\" # left, right, or both\n",
    "perform_motor_test(vehicle,MIN_ABS_THROTTLE,MAX_ABS_THROTTLE,N_SAMPLES,INTERVAL_IN_S,SUSTAIN_INTERVAL_IN_S,SIDE)"
   ]
  },
  {
   "cell_type": "code",
   "execution_count": null,
   "id": "e07e990f-a334-40e0-b3a1-d0f583fb072f",
   "metadata": {},
   "outputs": [],
   "source": [
    "!cp {vehicle.capture_path}/tctm.telemetry.MotorControlTelemetry.csv {vehicle.capture_path}/tctm.telemetry.MotorControlTelemetry-LeftThrottleRamp.csv"
   ]
  },
  {
   "cell_type": "code",
   "execution_count": null,
   "id": "8a1dbddf-5abc-4d13-b4d1-ca85b91165c7",
   "metadata": {},
   "outputs": [],
   "source": [
    "motor_control_tm_df = pd.read_csv(os.path.join(vehicle.capture_path,\"tctm.telemetry.MotorControlTelemetry-LeftThrottleRamp.csv\"))\n",
    "motor_control_tm_df[\"AverageSpeed12\"] = (motor_control_tm_df.MeasuredSpeed1+ motor_control_tm_df.MeasuredSpeed2)/2\n",
    "motor_control_tm_df.tail()"
   ]
  },
  {
   "cell_type": "code",
   "execution_count": null,
   "id": "bc6bf563-336b-4f46-b4d0-e707e4504ff4",
   "metadata": {},
   "outputs": [],
   "source": [
    "fig, axes = plt.subplots(3,1,figsize=(18,12),sharex=True)\n",
    "axes[0].plot(motor_control_tm_df.OnBoardTime-motor_control_tm_df.OnBoardTime.iloc[0]/1000,motor_control_tm_df.Throttle1)\n",
    "axes[0].set_title(\"Throttle\")\n",
    "axes[0].grid(which=\"Both\")\n",
    "axes[0].set_xlabel(\"Time [s]\")\n",
    "axes[0].set_ylabel(\"Throttle [%]\")\n",
    "axes[0].legend([\"Throttle1\"])\n",
    "\n",
    "axes[1].plot(motor_control_tm_df.OnBoardTime-motor_control_tm_df.OnBoardTime.iloc[0]/1000,motor_control_tm_df.MeasuredSpeed1)\n",
    "axes[1].plot(motor_control_tm_df.OnBoardTime-motor_control_tm_df.OnBoardTime.iloc[0]/1000,motor_control_tm_df.MeasuredSpeed2)\n",
    "axes[1].plot(motor_control_tm_df.OnBoardTime-motor_control_tm_df.OnBoardTime.iloc[0]/1000,motor_control_tm_df.AverageSpeed12)\n",
    "axes[1].set_title(\"Measured speed(both wheels)\")\n",
    "axes[1].grid(which=\"Both\")\n",
    "axes[1].set_xlabel(\"Time [s]\")\n",
    "axes[1].set_ylabel(\"Measured speed [RPM]\")\n",
    "axes[1].legend([\"Speed1\",\"Speed2\",\"Average\"])\n",
    "\n",
    "axes[2].plot(motor_control_tm_df.OnBoardTime-motor_control_tm_df.OnBoardTime.iloc[0]/1000,motor_control_tm_df.Tachometer1)\n",
    "axes[2].plot(motor_control_tm_df.OnBoardTime-motor_control_tm_df.OnBoardTime.iloc[0]/1000,motor_control_tm_df.Tachometer2)\n",
    "axes[2].grid(which=\"Both\")\n",
    "axes[2].set_xlabel(\"Time [s]\")\n",
    "axes[2].set_ylabel(\"Tachometer tick count\")\n",
    "axes[2].legend([\"Tachometer 1\",\"Tachometer 2\"])\n",
    "axes[2].set_title(\"Tachometer readings\");"
   ]
  },
  {
   "cell_type": "markdown",
   "id": "953d9917-333f-4049-b74e-9ce1c5fbb666",
   "metadata": {},
   "source": [
    "#### 3.2 Right side"
   ]
  },
  {
   "cell_type": "code",
   "execution_count": null,
   "id": "e7773a0c-8fdb-4b72-bf72-de4338be4767",
   "metadata": {},
   "outputs": [],
   "source": [
    "SIDE = \"right\" # left, right, or both\n",
    "perform_motor_test(vehicle,MIN_ABS_THROTTLE,MAX_ABS_THROTTLE,N_SAMPLES,INTERVAL_IN_S,SUSTAIN_INTERVAL_IN_S,SIDE)"
   ]
  },
  {
   "cell_type": "code",
   "execution_count": null,
   "id": "f97af375-d3c4-45db-a416-fde250a04ba1",
   "metadata": {},
   "outputs": [],
   "source": [
    "!cp {vehicle.capture_path}/tctm.telemetry.MotorControlTelemetry.csv {vehicle.capture_path}/tctm.telemetry.MotorControlTelemetry-RightThrottleRamp.csv"
   ]
  },
  {
   "cell_type": "code",
   "execution_count": null,
   "id": "511bac8b-18d3-46dd-94e5-77dc23c15fc3",
   "metadata": {},
   "outputs": [],
   "source": [
    "motor_control_tm_df = pd.read_csv(os.path.join(vehicle.capture_path,\"tctm.telemetry.MotorControlTelemetry-RightThrottleRamp.csv\"))\n",
    "motor_control_tm_df[\"AverageSpeed34\"] = (motor_control_tm_df.MeasuredSpeed3+ motor_control_tm_df.MeasuredSpeed4)/2\n",
    "motor_control_tm_df.tail()"
   ]
  },
  {
   "cell_type": "code",
   "execution_count": null,
   "id": "c04e1bf6-747c-431b-842d-1195f0f5b107",
   "metadata": {},
   "outputs": [],
   "source": [
    "fig, axes = plt.subplots(3,1,figsize=(18,16),sharex=True)\n",
    "axes[0].plot(motor_control_tm_df.OnBoardTime-motor_control_tm_df.OnBoardTime.iloc[0]/1000,motor_control_tm_df.Throttle2)\n",
    "axes[0].set_title(\"Throttle\")\n",
    "axes[0].grid(which=\"Both\")\n",
    "axes[0].set_xlabel(\"Time [s]\")\n",
    "axes[0].set_ylabel(\"Throttle [%]\")\n",
    "axes[0].legend([\"Throttle1\"])\n",
    "\n",
    "axes[1].plot(motor_control_tm_df.OnBoardTime-motor_control_tm_df.OnBoardTime.iloc[0]/1000,motor_control_tm_df.MeasuredSpeed3)\n",
    "axes[1].plot(motor_control_tm_df.OnBoardTime-motor_control_tm_df.OnBoardTime.iloc[0]/1000,motor_control_tm_df.MeasuredSpeed4)\n",
    "axes[1].plot(motor_control_tm_df.OnBoardTime-motor_control_tm_df.OnBoardTime.iloc[0]/1000,motor_control_tm_df.AverageSpeed34)\n",
    "axes[1].set_title(\"Measured speed(both wheels)\")\n",
    "axes[1].grid(which=\"Both\")\n",
    "axes[1].set_xlabel(\"Time [s]\")\n",
    "axes[1].set_ylabel(\"Measured speed [RPM]\")\n",
    "axes[1].legend([\"Speed3\",\"Speed4\",\"Average\"])\n",
    "\n",
    "axes[2].plot(motor_control_tm_df.OnBoardTime-motor_control_tm_df.OnBoardTime.iloc[0]/1000,motor_control_tm_df.Tachometer3)\n",
    "axes[2].plot(motor_control_tm_df.OnBoardTime-motor_control_tm_df.OnBoardTime.iloc[0]/1000,motor_control_tm_df.Tachometer4)\n",
    "axes[2].grid(which=\"Both\")\n",
    "axes[2].set_xlabel(\"Time [s]\")\n",
    "axes[2].set_ylabel(\"Tachometer tick count\")\n",
    "axes[2].legend([\"Tachometer 3\",\"Tachometer 4\"])\n",
    "axes[2].set_title(\"Tachometer readings\");"
   ]
  },
  {
   "cell_type": "markdown",
   "id": "24d53f1d-e474-4f55-94b6-2e643e4731f0",
   "metadata": {},
   "source": [
    "#### 3.3 Both sides"
   ]
  },
  {
   "cell_type": "code",
   "execution_count": null,
   "id": "703892ff-94d7-45ce-94eb-5c078421fc86",
   "metadata": {},
   "outputs": [],
   "source": [
    "SIDE = \"both\" # left, right, or both\n",
    "perform_motor_test(vehicle,MIN_ABS_THROTTLE,MAX_ABS_THROTTLE,N_SAMPLES,INTERVAL_IN_S,SUSTAIN_INTERVAL_IN_S,SIDE)"
   ]
  },
  {
   "cell_type": "code",
   "execution_count": null,
   "id": "03abfabc-a020-47c9-a6bd-a80b019ae2ff",
   "metadata": {},
   "outputs": [],
   "source": [
    "!cp {vehicle.capture_path}/tctm.telemetry.MotorControlTelemetry.csv {vehicle.capture_path}/tctm.telemetry.MotorControlTelemetry-BothThrottleRamp.csv"
   ]
  },
  {
   "cell_type": "code",
   "execution_count": null,
   "id": "af6d2e52-e3f2-463b-993e-58b7681c2e80",
   "metadata": {},
   "outputs": [],
   "source": [
    "motor_control_tm_df = pd.read_csv(os.path.join(vehicle.capture_path,\"tctm.telemetry.MotorControlTelemetry-BothThrottleRamp.csv\"))\n",
    "motor_control_tm_df[\"AverageSpeed12\"] = (motor_control_tm_df.MeasuredSpeed1+ motor_control_tm_df.MeasuredSpeed2)/2\n",
    "motor_control_tm_df[\"AverageSpeed34\"] = (motor_control_tm_df.MeasuredSpeed3+ motor_control_tm_df.MeasuredSpeed4)/2\n",
    "motor_control_tm_df.tail()"
   ]
  },
  {
   "cell_type": "code",
   "execution_count": null,
   "id": "7e6224d6-ddd9-4f16-8c58-cbac302fa454",
   "metadata": {},
   "outputs": [],
   "source": [
    "fig, axes = plt.subplots(4,1,figsize=(18,16),sharex=True)\n",
    "axes[0].plot(motor_control_tm_df.OnBoardTime-motor_control_tm_df.OnBoardTime.iloc[0]/1000,motor_control_tm_df.Throttle1)\n",
    "axes[0].set_title(\"Throttle\")\n",
    "axes[0].grid(which=\"Both\")\n",
    "axes[0].set_xlabel(\"Time [s]\")\n",
    "axes[0].set_ylabel(\"Throttle [%]\")\n",
    "axes[0].legend([\"Throttle1\"])\n",
    "\n",
    "axes[1].plot(motor_control_tm_df.OnBoardTime-motor_control_tm_df.OnBoardTime.iloc[0]/1000,motor_control_tm_df.MeasuredSpeed1)\n",
    "axes[1].plot(motor_control_tm_df.OnBoardTime-motor_control_tm_df.OnBoardTime.iloc[0]/1000,motor_control_tm_df.MeasuredSpeed2)\n",
    "axes[1].plot(motor_control_tm_df.OnBoardTime-motor_control_tm_df.OnBoardTime.iloc[0]/1000,motor_control_tm_df.MeasuredSpeed3)\n",
    "axes[1].plot(motor_control_tm_df.OnBoardTime-motor_control_tm_df.OnBoardTime.iloc[0]/1000,motor_control_tm_df.MeasuredSpeed4)\n",
    "axes[1].plot(motor_control_tm_df.OnBoardTime-motor_control_tm_df.OnBoardTime.iloc[0]/1000,motor_control_tm_df.AverageSpeed12)\n",
    "axes[1].plot(motor_control_tm_df.OnBoardTime-motor_control_tm_df.OnBoardTime.iloc[0]/1000,motor_control_tm_df.AverageSpeed34)\n",
    "axes[1].set_title(\"Measured speed (all wheels)\")\n",
    "axes[1].grid(which=\"Both\")\n",
    "axes[1].set_xlabel(\"Time [s]\")\n",
    "axes[1].set_ylabel(\"Measured speed [RPM]\")\n",
    "axes[1].legend([\"Speed1\",\"Speed2\",\"Speed3\",\"Speed4\",\"Average12\",\"Average34\",])\n",
    "\n",
    "axes[2].plot(motor_control_tm_df.OnBoardTime-motor_control_tm_df.OnBoardTime.iloc[0]/1000,motor_control_tm_df.AverageSpeed12.rolling(4).mean())\n",
    "axes[2].plot(motor_control_tm_df.OnBoardTime-motor_control_tm_df.OnBoardTime.iloc[0]/1000,motor_control_tm_df.AverageSpeed34.rolling(4).mean())\n",
    "axes[2].set_title(\"Measured speed(both wheels)\")\n",
    "axes[2].grid(which=\"Both\")\n",
    "axes[2].set_xlabel(\"Time [s]\")\n",
    "axes[2].set_ylabel(\"Measured speed [RPM]\")\n",
    "axes[2].legend([\"Average (filtered)\"])\n",
    "\n",
    "axes[3].plot(motor_control_tm_df.OnBoardTime-motor_control_tm_df.OnBoardTime.iloc[0]/1000,motor_control_tm_df.Tachometer1)\n",
    "axes[3].plot(motor_control_tm_df.OnBoardTime-motor_control_tm_df.OnBoardTime.iloc[0]/1000,motor_control_tm_df.Tachometer2)\n",
    "axes[3].plot(motor_control_tm_df.OnBoardTime-motor_control_tm_df.OnBoardTime.iloc[0]/1000,motor_control_tm_df.Tachometer3)\n",
    "axes[3].plot(motor_control_tm_df.OnBoardTime-motor_control_tm_df.OnBoardTime.iloc[0]/1000,motor_control_tm_df.Tachometer4)\n",
    "axes[3].grid(which=\"Both\")\n",
    "axes[3].set_xlabel(\"Time [s]\")\n",
    "axes[3].set_ylabel(\"Tachometer tick count\")\n",
    "axes[3].legend([\"Tachometer 1\",\"Tachometer 2\",\"Tachometer 3\",\"Tachometer 4\"])\n",
    "axes[3].set_title(\"Tachometer readings\");"
   ]
  },
  {
   "cell_type": "markdown",
   "id": "c142be31-c1b3-44ef-968d-46d9ff21bead",
   "metadata": {},
   "source": [
    "### 4. PID motor control"
   ]
  },
  {
   "cell_type": "code",
   "execution_count": null,
   "id": "6e543d8f-312e-437f-8e7d-31db192e42c0",
   "metadata": {},
   "outputs": [],
   "source": [
    "vehicle.print_telemetry()"
   ]
  },
  {
   "cell_type": "code",
   "execution_count": null,
   "id": "1f46dfd4-94ae-42ac-b2ad-1126792ce4ce",
   "metadata": {},
   "outputs": [],
   "source": [
    "vehicle.set_pid_parameters(0.01,1,1)"
   ]
  },
  {
   "cell_type": "code",
   "execution_count": null,
   "id": "e5fafc64-ea5c-430d-b489-73e4fb212083",
   "metadata": {},
   "outputs": [],
   "source": [
    "# Start logging\n",
    "vehicle.start_telemetry_csv_logging()"
   ]
  },
  {
   "cell_type": "code",
   "execution_count": null,
   "id": "75184e88-6083-4dab-9aaa-6f4e830b4232",
   "metadata": {},
   "outputs": [],
   "source": [
    "MIN_SPEED = 40\n",
    "MAX_SPEED = 400\n",
    "N_SAMPLES = 64\n",
    "INTERVAL=0.1\n",
    "\n",
    "# Start logging\n",
    "vehicle.start_telemetry_csv_logging()\n",
    "\n",
    "vehicle.set_motor_control_mode(VehicleIF.MOTOR_MODE_ARM_PID)\n",
    "time.sleep(1)\n",
    "\n",
    "for speed in np.linspace(MIN_SPEED,MAX_SPEED,N_SAMPLES):\n",
    "    vehicle.set_motor_speeds(speed,speed,0x3)\n",
    "    time.sleep(INTERVAL)\n",
    "\n",
    "# Sustain\n",
    "time.sleep(INTERVAL*50)\n",
    "\n",
    "\n",
    "for speed in np.linspace(MAX_SPEED,MIN_SPEED,N_SAMPLES):\n",
    "    vehicle.set_motor_speeds(speed,speed,0x3)\n",
    "    time.sleep(INTERVAL)\n",
    "\n",
    "time.sleep(1)\n",
    "\n",
    "# Stop logging\n",
    "vehicle.stop_telemetry_csv_logging()     \n",
    "\n",
    "# Disarm\n",
    "vehicle.set_motor_control_mode(VehicleIF.MOTOR_MODE_DISARM)"
   ]
  },
  {
   "cell_type": "code",
   "execution_count": null,
   "id": "5c230248-7e8f-41e3-86b9-46c19918a167",
   "metadata": {},
   "outputs": [],
   "source": [
    "motor_control_tm_df = pd.read_csv(os.path.join(vehicle.capture_path,\"tctm.telemetry.MotorControlTelemetry.csv\"))\n",
    "motor_control_tm_df[\"AverageSpeed12\"] = (motor_control_tm_df.MeasuredSpeed1+ motor_control_tm_df.MeasuredSpeed2)/2\n",
    "motor_control_tm_df.tail()"
   ]
  },
  {
   "cell_type": "code",
   "execution_count": null,
   "id": "fd6cc0f6-d603-4a27-b2f8-a300762ffda9",
   "metadata": {},
   "outputs": [],
   "source": [
    "fig, axes = plt.subplots(4,1,figsize=(18,16),sharex=True)\n",
    "axes[0].plot(motor_control_tm_df.OnBoardTime-motor_control_tm_df.OnBoardTime.iloc[0]/1000,motor_control_tm_df.Throttle1)\n",
    "axes[0].set_title(\"Throttle\")\n",
    "axes[0].grid(which=\"Both\")\n",
    "axes[0].set_xlabel(\"Time [s]\")\n",
    "axes[0].set_ylabel(\"Throttle [%]\")\n",
    "axes[0].legend([\"Throttle1\"])\n",
    "\n",
    "axes[1].plot(motor_control_tm_df.OnBoardTime-motor_control_tm_df.OnBoardTime.iloc[0]/1000,motor_control_tm_df.MeasuredSpeed1)\n",
    "axes[1].plot(motor_control_tm_df.OnBoardTime-motor_control_tm_df.OnBoardTime.iloc[0]/1000,motor_control_tm_df.MeasuredSpeed2)\n",
    "axes[1].plot(motor_control_tm_df.OnBoardTime-motor_control_tm_df.OnBoardTime.iloc[0]/1000,motor_control_tm_df.AverageSpeed12)\n",
    "axes[1].set_title(\"Measured speed (all wheels)\")\n",
    "axes[1].grid(which=\"Both\")\n",
    "axes[1].set_xlabel(\"Time [s]\")\n",
    "axes[1].set_ylabel(\"Measured speed [RPM]\")\n",
    "axes[1].legend([\"Speed1\",\"Speed2\",\"Average\"])\n",
    "\n",
    "axes[2].plot(motor_control_tm_df.OnBoardTime-motor_control_tm_df.OnBoardTime.iloc[0]/1000,motor_control_tm_df.AverageSpeed12.rolling(4).mean())\n",
    "axes[2].set_title(\"Measured speed(both wheels)\")\n",
    "axes[2].grid(which=\"Both\")\n",
    "axes[2].set_xlabel(\"Time [s]\")\n",
    "axes[2].set_ylabel(\"Measured speed [RPM]\")\n",
    "axes[2].legend([\"Average (filtered)\"])\n",
    "\n",
    "axes[3].plot(motor_control_tm_df.OnBoardTime-motor_control_tm_df.OnBoardTime.iloc[0]/1000,motor_control_tm_df.Tachometer1)\n",
    "axes[3].plot(motor_control_tm_df.OnBoardTime-motor_control_tm_df.OnBoardTime.iloc[0]/1000,motor_control_tm_df.Tachometer2)\n",
    "axes[3].grid(which=\"Both\")\n",
    "axes[3].set_xlabel(\"Time [s]\")\n",
    "axes[3].set_ylabel(\"Tachometer tick count\")\n",
    "axes[3].legend([\"Tachometer 1\",\"Tachometer 2\",])\n",
    "axes[3].set_title(\"Tachometer readings\");"
   ]
  },
  {
   "cell_type": "markdown",
   "id": "81526260-55c9-44e8-9b1e-9af8b19cfb0d",
   "metadata": {},
   "source": [
    "## Teardown"
   ]
  },
  {
   "cell_type": "code",
   "execution_count": null,
   "id": "fd5c4f6f-ad13-40ed-9129-1b18454eabde",
   "metadata": {},
   "outputs": [],
   "source": [
    "vehicle.shutdown()"
   ]
  },
  {
   "cell_type": "markdown",
   "id": "2cfb34ea-acf5-46e1-8106-b19e29c88f40",
   "metadata": {},
   "source": [
    "# Debug\n",
    "<hr/>"
   ]
  },
  {
   "cell_type": "code",
   "execution_count": null,
   "id": "2390871e-053e-4c03-954c-1fc36592d3e4",
   "metadata": {},
   "outputs": [],
   "source": [
    "vehicle.set_motor_control_mode(VehicleIF.MOTOR_MODE_DISARM)"
   ]
  },
  {
   "cell_type": "code",
   "execution_count": null,
   "id": "39fcb210-b555-4e4f-9c2f-e3f023234477",
   "metadata": {},
   "outputs": [],
   "source": [
    "vehicle.set_motor_control_mode(VehicleIF.MOTOR_MODE_ARM_MANUAL)\n",
    "vehicle.set_motor_throttles(0.4,0.,0x1)"
   ]
  },
  {
   "cell_type": "code",
   "execution_count": null,
   "id": "d7daef1f-b049-40f6-b930-9f486b9484bb",
   "metadata": {},
   "outputs": [],
   "source": []
  },
  {
   "cell_type": "code",
   "execution_count": null,
   "id": "de69489a-ec08-4e00-9a03-b6a98d2e6f13",
   "metadata": {},
   "outputs": [],
   "source": [
    "vehicle.print_telemetry()"
   ]
  }
 ],
 "metadata": {
  "kernelspec": {
   "display_name": "Python 3 (ipykernel)",
   "language": "python",
   "name": "python3"
  },
  "language_info": {
   "codemirror_mode": {
    "name": "ipython",
    "version": 3
   },
   "file_extension": ".py",
   "mimetype": "text/x-python",
   "name": "python",
   "nbconvert_exporter": "python",
   "pygments_lexer": "ipython3",
   "version": "3.8.8"
  }
 },
 "nbformat": 4,
 "nbformat_minor": 5
}
