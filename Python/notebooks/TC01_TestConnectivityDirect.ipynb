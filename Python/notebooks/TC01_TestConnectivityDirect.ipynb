{
 "cells": [
  {
   "cell_type": "markdown",
   "id": "82dbca0a-4753-4896-b52d-fd99bcec273c",
   "metadata": {},
   "source": [
    "# Direct communication\n",
    "\n",
    "Direct communication allows to control the Rover using a UART (serial) interface. This is useful for bench tests, but unsuitable for operation, as the control station runs in a computer that is not the onboard computer.\n",
    "\n",
    "This procedure describes minimal connectivity test using the serial interface."
   ]
  },
  {
   "cell_type": "code",
   "execution_count": 1,
   "id": "9da95067-3c0b-48a1-96c9-f5fa9d9dfe7e",
   "metadata": {},
   "outputs": [],
   "source": [
    "%load_ext autoreload\n",
    "%autoreload 2"
   ]
  },
  {
   "cell_type": "code",
   "execution_count": 2,
   "id": "8ab20dd7-1ecd-4101-b6ca-635cbbc81411",
   "metadata": {},
   "outputs": [],
   "source": [
    "import sys\n",
    "sys.path.append(\"../\")\n",
    "from rover.vehicleif import VehicleIF"
   ]
  },
  {
   "cell_type": "markdown",
   "id": "0b4292a9-e860-4a99-98e9-426894ff5b67",
   "metadata": {},
   "source": [
    "## Connection"
   ]
  },
  {
   "cell_type": "code",
   "execution_count": 3,
   "id": "e67a456e-b1c9-4b25-8212-615b4c970570",
   "metadata": {},
   "outputs": [
    {
     "name": "stdout",
     "output_type": "stream",
     "text": [
      "/dev/ttyACM0\n"
     ]
    }
   ],
   "source": [
    "!ls /dev/ttyACM*"
   ]
  },
  {
   "cell_type": "code",
   "execution_count": 4,
   "id": "7c7727d4-4e3b-4218-8f30-40c801bf4087",
   "metadata": {},
   "outputs": [],
   "source": [
    "connection_params = {\n",
    "    \"mode\": VehicleIF.MODE_DIRECT_SERIAL,\n",
    "    \"port\": \"/dev/ttyACM0\",\n",
    "    \"baudrate\": 115200\n",
    "}\n",
    "\n",
    "vehicle = VehicleIF(connection_params,debug=False)\n",
    "vehicle.capture_path = \"./captures\""
   ]
  },
  {
   "cell_type": "markdown",
   "id": "68cffba3-85da-41c2-b350-3291fd64ca8f",
   "metadata": {},
   "source": [
    "## Operation"
   ]
  },
  {
   "cell_type": "code",
   "execution_count": 319,
   "id": "8774ef14-5740-4ccc-a850-7ea11035fcf7",
   "metadata": {},
   "outputs": [
    {
     "name": "stdout",
     "output_type": "stream",
     "text": [
      "General Telemetry\n",
      "   TelemetryCycle: 43\n",
      "   OnBoardTime: 25805\n",
      "   ReceivedPackets: 0\n",
      "   GeneralStatus: 0x00000000\n",
      "   Debug1: 0x00000000\n",
      "   Debug2: 0x00000000\n",
      "Motor Telemetry\n",
      "   TelemetryCycle: 43\n",
      "   OnBoardTime: 25805\n",
      "   Throttle1: 0.0\n",
      "   Throttle2: 0.0\n",
      "   Tachometer1: 0\n",
      "   Tachometer2: 0\n",
      "   Tachometer3: 48\n",
      "   Tachometer4: 0\n",
      "   MeasuredSpeed1: 0.0\n",
      "   MeasuredSpeed2: 0.0\n",
      "   MeasuredSpeed3: 0.0\n",
      "   MeasuredSpeed4: 0.0\n",
      "   SetpointSpeed1: 0.0\n",
      "   SetpointSpeed2: 0.0\n",
      "   StatusFlags: 0x00000000\n",
      "IMU Telemetry\n",
      "   TelemetryCycle: 0\n",
      "   OnBoardTime: 0\n",
      "   Roll: 0.0\n",
      "   Pitch: 0.0\n",
      "   Yaw: 0.0\n"
     ]
    }
   ],
   "source": [
    "vehicle.print_telemetry()"
   ]
  },
  {
   "cell_type": "code",
   "execution_count": 233,
   "id": "122a21ed-bdff-44c3-ab03-b8fc7e316d73",
   "metadata": {},
   "outputs": [
    {
     "name": "stdout",
     "output_type": "stream",
     "text": [
      "Sent: 0x 40 3C 05 00 00 00 00 01 A2 0A  (10 bytes)\n"
     ]
    }
   ],
   "source": [
    "# Led on\n",
    "vehicle.control_led(0x00000001)"
   ]
  },
  {
   "cell_type": "code",
   "execution_count": 234,
   "id": "4f93c1b1-f937-453d-841b-11e2f60e564c",
   "metadata": {},
   "outputs": [
    {
     "name": "stdout",
     "output_type": "stream",
     "text": [
      "Sent: 0x 40 3C 05 00 00 00 00 00 93 0A  (10 bytes)\n"
     ]
    }
   ],
   "source": [
    "# Led off\n",
    "vehicle.control_led(0x00000000)"
   ]
  },
  {
   "cell_type": "markdown",
   "id": "fcbce516-fb83-4195-93b3-5472e389b5e2",
   "metadata": {},
   "source": [
    "## Teardown"
   ]
  },
  {
   "cell_type": "code",
   "execution_count": null,
   "id": "21781c48-3170-4881-9a81-180a1c1eef8b",
   "metadata": {},
   "outputs": [],
   "source": [
    "vehicle.disconnect()"
   ]
  }
 ],
 "metadata": {
  "kernelspec": {
   "display_name": "Python 3 (ipykernel)",
   "language": "python",
   "name": "python3"
  },
  "language_info": {
   "codemirror_mode": {
    "name": "ipython",
    "version": 3
   },
   "file_extension": ".py",
   "mimetype": "text/x-python",
   "name": "python",
   "nbconvert_exporter": "python",
   "pygments_lexer": "ipython3",
   "version": "3.8.8"
  }
 },
 "nbformat": 4,
 "nbformat_minor": 5
}
