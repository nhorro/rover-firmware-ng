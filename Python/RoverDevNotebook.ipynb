{
 "cells": [
  {
   "cell_type": "markdown",
   "id": "5a3bb648-6694-4f19-8e5d-92a029e70062",
   "metadata": {},
   "source": [
    "# Rover development notebook (draft/development)\n",
    "\n",
    "This notebook is for development and testing of the Rover. It is meant to be used with the Rover connected to USB during development.\n",
    "\n",
    "- The communication with vehicle using [The Simple Communication Protocol for Embedded Applications](https://github.com/nhorro/simpleprotocol)."
   ]
  },
  {
   "cell_type": "code",
   "execution_count": 1,
   "id": "1b88de54-7a08-4a7e-be9c-40aea391032d",
   "metadata": {},
   "outputs": [],
   "source": [
    "%load_ext autoreload\n",
    "%autoreload 2"
   ]
  },
  {
   "cell_type": "markdown",
   "id": "e305d986-33ad-45d5-b168-aab4782a258c",
   "metadata": {},
   "source": [
    "## Vehicle operation\n",
    "\n",
    "![img](../Documentation/Assets/RoverInTestBenchTopView.jpeg)"
   ]
  },
  {
   "cell_type": "markdown",
   "id": "75155630-9cab-46d8-b027-c452053b8b43",
   "metadata": {},
   "source": [
    "### Connection to vehicle"
   ]
  },
  {
   "cell_type": "markdown",
   "id": "cf058cd2-a076-4ea7-8639-0dbc408b09b8",
   "metadata": {},
   "source": [
    "Find which port is the vehicle connected to.\n",
    "In linux, usually it is ttyACM0, ttyACM1, ..."
   ]
  },
  {
   "cell_type": "code",
   "execution_count": 2,
   "id": "5f47bf11-c938-4382-bc96-e207ea6af5f1",
   "metadata": {},
   "outputs": [
    {
     "name": "stdout",
     "output_type": "stream",
     "text": [
      "/dev/ttyACM0\n"
     ]
    }
   ],
   "source": [
    "!ls /dev/ttyACM*"
   ]
  },
  {
   "cell_type": "code",
   "execution_count": 3,
   "id": "31571081-5b78-40d7-ba11-658ae6e92338",
   "metadata": {},
   "outputs": [],
   "source": [
    "from rover.vehicleif import VehicleIF\n",
    "vehicle = VehicleIF(\"/dev/ttyACM0\", 115200,debug=False)\n",
    "vehicle.capture_path = \"./captures\""
   ]
  },
  {
   "cell_type": "markdown",
   "id": "f92e8e47-fda9-4892-967e-d94cc53e9bb5",
   "metadata": {},
   "source": [
    "For a quick health check, see current telemetry state:"
   ]
  },
  {
   "cell_type": "code",
   "execution_count": 4,
   "id": "6fdccc8b-3a80-4a28-992e-cddd87fcea91",
   "metadata": {},
   "outputs": [
    {
     "name": "stdout",
     "output_type": "stream",
     "text": [
      "General Telemetry\n",
      "   TelemetryCycle: 0x00001070\n",
      "   OnBoardTime: 0x00403571\n",
      "   ReceivedPackets: 0x00000002\n",
      "   LedControlState: 0x00000000\n",
      "   LastCommandOpcode: 0x00000000\n",
      "   LastCommandResult: 0x00000001\n",
      "   LasOsResult1: 0x00000000\n",
      "   LasOsResult2: 0x00000000\n",
      "Motor Telemetry\n",
      "   Throttle1: 0.0\n",
      "   Throttle2: 0.0\n",
      "   Tachometer1: 28\n",
      "   Tachometer2: 145\n",
      "   Tachometer3: 20\n",
      "   Tachometer4: 12\n",
      "   MeasuredSpeed1: 0.0\n",
      "   MeasuredSpeed2: 0.0\n",
      "   MeasuredSpeed3: 0.0\n",
      "   MeasuredSpeed4: 0.0\n",
      "   SetpointSpeed1: 0.0\n",
      "   SetpointSpeed2: 0.0\n",
      "   StatusFlags: 0\n"
     ]
    }
   ],
   "source": [
    "vehicle.print_telemetry()"
   ]
  },
  {
   "cell_type": "markdown",
   "id": "16a6cf78-3bb5-4c5b-9fdf-cd80a9f940d0",
   "metadata": {},
   "source": [
    "For a quick command test, turn on and off led."
   ]
  },
  {
   "cell_type": "code",
   "execution_count": 8,
   "id": "7d031e29-1987-4055-9074-3927a676260a",
   "metadata": {},
   "outputs": [
    {
     "name": "stdout",
     "output_type": "stream",
     "text": [
      "Sent: 0x 40 3C 05 00 00 00 00 01 A2 0A  (10 bytes)\n"
     ]
    }
   ],
   "source": [
    "# Led on\n",
    "vehicle.control_led(0x00000001)"
   ]
  },
  {
   "cell_type": "code",
   "execution_count": 9,
   "id": "c6504014-4341-4a1e-900d-3b16c5ea8b75",
   "metadata": {},
   "outputs": [
    {
     "name": "stdout",
     "output_type": "stream",
     "text": [
      "Sent: 0x 40 3C 05 00 00 00 00 00 93 0A  (10 bytes)\n"
     ]
    }
   ],
   "source": [
    "# Led off\n",
    "vehicle.control_led(0x00000000)"
   ]
  },
  {
   "cell_type": "markdown",
   "id": "58c65362-2eee-4d6f-be0d-6c8d2dd31dee",
   "metadata": {},
   "source": [
    "## Telemetry analysis\n",
    "\n",
    "The following tests use logged telemetry. Telemetry is received and saved to CSV files. Each telemetry report type is saved to its own file.\n",
    "\n",
    "The following methods start and stop the logging of all received reports:\n",
    "\n",
    "- `start_telemetry_csv_logging()`\n",
    "- `stop_telemetry_csv_logging()`"
   ]
  },
  {
   "cell_type": "code",
   "execution_count": 12,
   "id": "a72d1137-7560-48c6-9660-f44533686e76",
   "metadata": {},
   "outputs": [],
   "source": [
    "vehicle.start_telemetry_csv_logging()"
   ]
  },
  {
   "cell_type": "code",
   "execution_count": 14,
   "id": "fc4c1fba-461e-4c8c-b694-c4af3137b9c9",
   "metadata": {},
   "outputs": [],
   "source": [
    "vehicle.stop_telemetry_csv_logging()"
   ]
  },
  {
   "cell_type": "markdown",
   "id": "f8aec8f0-b081-4c41-a220-9965a56ed459",
   "metadata": {},
   "source": [
    "CSVs will be saved to the `capture_path` variable of the vehicle interface."
   ]
  },
  {
   "cell_type": "code",
   "execution_count": 15,
   "id": "c0a24b26-ef45-4b43-909c-f06cec80c579",
   "metadata": {},
   "outputs": [
    {
     "name": "stdout",
     "output_type": "stream",
     "text": [
      "tctm.telemetry.GeneralTelemetry.csv  tctm.telemetry.MotorControlTelemetry.csv\n"
     ]
    }
   ],
   "source": [
    "!ls {vehicle.capture_path}"
   ]
  },
  {
   "cell_type": "code",
   "execution_count": 19,
   "id": "3a678ce2-602b-45bd-a20e-51a14e76ea32",
   "metadata": {},
   "outputs": [
    {
     "data": {
      "text/html": [
       "<div>\n",
       "<style scoped>\n",
       "    .dataframe tbody tr th:only-of-type {\n",
       "        vertical-align: middle;\n",
       "    }\n",
       "\n",
       "    .dataframe tbody tr th {\n",
       "        vertical-align: top;\n",
       "    }\n",
       "\n",
       "    .dataframe thead th {\n",
       "        text-align: right;\n",
       "    }\n",
       "</style>\n",
       "<table border=\"1\" class=\"dataframe\">\n",
       "  <thead>\n",
       "    <tr style=\"text-align: right;\">\n",
       "      <th></th>\n",
       "      <th>TelemetryCycle</th>\n",
       "      <th>OnBoardTime</th>\n",
       "      <th>ReceivedPackets</th>\n",
       "      <th>LedControlState</th>\n",
       "      <th>LastCommandOpcode</th>\n",
       "      <th>LastCommandResult</th>\n",
       "      <th>LasOsResult1</th>\n",
       "      <th>LasOsResult2</th>\n",
       "    </tr>\n",
       "  </thead>\n",
       "  <tbody>\n",
       "    <tr>\n",
       "      <th>0</th>\n",
       "      <td>4531</td>\n",
       "      <td>4530985</td>\n",
       "      <td>7</td>\n",
       "      <td>0</td>\n",
       "      <td>0</td>\n",
       "      <td>1</td>\n",
       "      <td>0</td>\n",
       "      <td>0</td>\n",
       "    </tr>\n",
       "    <tr>\n",
       "      <th>1</th>\n",
       "      <td>4532</td>\n",
       "      <td>4531985</td>\n",
       "      <td>7</td>\n",
       "      <td>0</td>\n",
       "      <td>0</td>\n",
       "      <td>1</td>\n",
       "      <td>0</td>\n",
       "      <td>0</td>\n",
       "    </tr>\n",
       "    <tr>\n",
       "      <th>2</th>\n",
       "      <td>4533</td>\n",
       "      <td>4532985</td>\n",
       "      <td>7</td>\n",
       "      <td>0</td>\n",
       "      <td>0</td>\n",
       "      <td>1</td>\n",
       "      <td>0</td>\n",
       "      <td>0</td>\n",
       "    </tr>\n",
       "    <tr>\n",
       "      <th>3</th>\n",
       "      <td>4534</td>\n",
       "      <td>4533985</td>\n",
       "      <td>7</td>\n",
       "      <td>0</td>\n",
       "      <td>0</td>\n",
       "      <td>1</td>\n",
       "      <td>0</td>\n",
       "      <td>0</td>\n",
       "    </tr>\n",
       "    <tr>\n",
       "      <th>4</th>\n",
       "      <td>4535</td>\n",
       "      <td>4534985</td>\n",
       "      <td>7</td>\n",
       "      <td>0</td>\n",
       "      <td>0</td>\n",
       "      <td>1</td>\n",
       "      <td>0</td>\n",
       "      <td>0</td>\n",
       "    </tr>\n",
       "    <tr>\n",
       "      <th>5</th>\n",
       "      <td>4536</td>\n",
       "      <td>4535985</td>\n",
       "      <td>7</td>\n",
       "      <td>0</td>\n",
       "      <td>0</td>\n",
       "      <td>1</td>\n",
       "      <td>0</td>\n",
       "      <td>0</td>\n",
       "    </tr>\n",
       "    <tr>\n",
       "      <th>6</th>\n",
       "      <td>4537</td>\n",
       "      <td>4536985</td>\n",
       "      <td>7</td>\n",
       "      <td>0</td>\n",
       "      <td>0</td>\n",
       "      <td>1</td>\n",
       "      <td>0</td>\n",
       "      <td>0</td>\n",
       "    </tr>\n",
       "    <tr>\n",
       "      <th>7</th>\n",
       "      <td>4538</td>\n",
       "      <td>4537985</td>\n",
       "      <td>7</td>\n",
       "      <td>0</td>\n",
       "      <td>0</td>\n",
       "      <td>1</td>\n",
       "      <td>0</td>\n",
       "      <td>0</td>\n",
       "    </tr>\n",
       "    <tr>\n",
       "      <th>8</th>\n",
       "      <td>4539</td>\n",
       "      <td>4538985</td>\n",
       "      <td>7</td>\n",
       "      <td>0</td>\n",
       "      <td>0</td>\n",
       "      <td>1</td>\n",
       "      <td>0</td>\n",
       "      <td>0</td>\n",
       "    </tr>\n",
       "    <tr>\n",
       "      <th>9</th>\n",
       "      <td>4540</td>\n",
       "      <td>4539985</td>\n",
       "      <td>7</td>\n",
       "      <td>0</td>\n",
       "      <td>0</td>\n",
       "      <td>1</td>\n",
       "      <td>0</td>\n",
       "      <td>0</td>\n",
       "    </tr>\n",
       "  </tbody>\n",
       "</table>\n",
       "</div>"
      ],
      "text/plain": [
       "   TelemetryCycle  OnBoardTime  ReceivedPackets  LedControlState  \\\n",
       "0            4531      4530985                7                0   \n",
       "1            4532      4531985                7                0   \n",
       "2            4533      4532985                7                0   \n",
       "3            4534      4533985                7                0   \n",
       "4            4535      4534985                7                0   \n",
       "5            4536      4535985                7                0   \n",
       "6            4537      4536985                7                0   \n",
       "7            4538      4537985                7                0   \n",
       "8            4539      4538985                7                0   \n",
       "9            4540      4539985                7                0   \n",
       "\n",
       "   LastCommandOpcode  LastCommandResult  LasOsResult1  LasOsResult2  \n",
       "0                  0                  1             0             0  \n",
       "1                  0                  1             0             0  \n",
       "2                  0                  1             0             0  \n",
       "3                  0                  1             0             0  \n",
       "4                  0                  1             0             0  \n",
       "5                  0                  1             0             0  \n",
       "6                  0                  1             0             0  \n",
       "7                  0                  1             0             0  \n",
       "8                  0                  1             0             0  \n",
       "9                  0                  1             0             0  "
      ]
     },
     "execution_count": 19,
     "metadata": {},
     "output_type": "execute_result"
    }
   ],
   "source": [
    "import os\n",
    "import pandas as pd\n",
    "import matplotlib.pyplot as plt\n",
    "\n",
    "general_tm_df = pd.read_csv(os.path.join(vehicle.capture_path,\"tctm.telemetry.GeneralTelemetry.csv\"))\n",
    "general_tm_df"
   ]
  },
  {
   "cell_type": "code",
   "execution_count": 21,
   "id": "373b2fe3-4f31-46a9-b1cf-0931bd92741b",
   "metadata": {},
   "outputs": [
    {
     "data": {
      "text/html": [
       "<div>\n",
       "<style scoped>\n",
       "    .dataframe tbody tr th:only-of-type {\n",
       "        vertical-align: middle;\n",
       "    }\n",
       "\n",
       "    .dataframe tbody tr th {\n",
       "        vertical-align: top;\n",
       "    }\n",
       "\n",
       "    .dataframe thead th {\n",
       "        text-align: right;\n",
       "    }\n",
       "</style>\n",
       "<table border=\"1\" class=\"dataframe\">\n",
       "  <thead>\n",
       "    <tr style=\"text-align: right;\">\n",
       "      <th></th>\n",
       "      <th>Throttle1</th>\n",
       "      <th>Throttle2</th>\n",
       "      <th>Tachometer1</th>\n",
       "      <th>Tachometer2</th>\n",
       "      <th>Tachometer3</th>\n",
       "      <th>Tachometer4</th>\n",
       "      <th>MeasuredSpeed1</th>\n",
       "      <th>MeasuredSpeed2</th>\n",
       "      <th>MeasuredSpeed3</th>\n",
       "      <th>MeasuredSpeed4</th>\n",
       "      <th>SetpointSpeed1</th>\n",
       "      <th>SetpointSpeed2</th>\n",
       "      <th>StatusFlags</th>\n",
       "    </tr>\n",
       "  </thead>\n",
       "  <tbody>\n",
       "    <tr>\n",
       "      <th>0</th>\n",
       "      <td>0.0</td>\n",
       "      <td>0.0</td>\n",
       "      <td>28</td>\n",
       "      <td>145</td>\n",
       "      <td>20</td>\n",
       "      <td>12</td>\n",
       "      <td>0.0</td>\n",
       "      <td>0.0</td>\n",
       "      <td>0.0</td>\n",
       "      <td>0.0</td>\n",
       "      <td>0.0</td>\n",
       "      <td>0.0</td>\n",
       "      <td>0</td>\n",
       "    </tr>\n",
       "    <tr>\n",
       "      <th>1</th>\n",
       "      <td>0.0</td>\n",
       "      <td>0.0</td>\n",
       "      <td>28</td>\n",
       "      <td>145</td>\n",
       "      <td>20</td>\n",
       "      <td>12</td>\n",
       "      <td>0.0</td>\n",
       "      <td>0.0</td>\n",
       "      <td>0.0</td>\n",
       "      <td>0.0</td>\n",
       "      <td>0.0</td>\n",
       "      <td>0.0</td>\n",
       "      <td>0</td>\n",
       "    </tr>\n",
       "    <tr>\n",
       "      <th>2</th>\n",
       "      <td>0.0</td>\n",
       "      <td>0.0</td>\n",
       "      <td>28</td>\n",
       "      <td>145</td>\n",
       "      <td>20</td>\n",
       "      <td>12</td>\n",
       "      <td>0.0</td>\n",
       "      <td>0.0</td>\n",
       "      <td>0.0</td>\n",
       "      <td>0.0</td>\n",
       "      <td>0.0</td>\n",
       "      <td>0.0</td>\n",
       "      <td>0</td>\n",
       "    </tr>\n",
       "    <tr>\n",
       "      <th>3</th>\n",
       "      <td>0.0</td>\n",
       "      <td>0.0</td>\n",
       "      <td>28</td>\n",
       "      <td>145</td>\n",
       "      <td>20</td>\n",
       "      <td>12</td>\n",
       "      <td>0.0</td>\n",
       "      <td>0.0</td>\n",
       "      <td>0.0</td>\n",
       "      <td>0.0</td>\n",
       "      <td>0.0</td>\n",
       "      <td>0.0</td>\n",
       "      <td>0</td>\n",
       "    </tr>\n",
       "    <tr>\n",
       "      <th>4</th>\n",
       "      <td>0.0</td>\n",
       "      <td>0.0</td>\n",
       "      <td>28</td>\n",
       "      <td>145</td>\n",
       "      <td>20</td>\n",
       "      <td>12</td>\n",
       "      <td>0.0</td>\n",
       "      <td>0.0</td>\n",
       "      <td>0.0</td>\n",
       "      <td>0.0</td>\n",
       "      <td>0.0</td>\n",
       "      <td>0.0</td>\n",
       "      <td>0</td>\n",
       "    </tr>\n",
       "    <tr>\n",
       "      <th>5</th>\n",
       "      <td>0.0</td>\n",
       "      <td>0.0</td>\n",
       "      <td>28</td>\n",
       "      <td>145</td>\n",
       "      <td>20</td>\n",
       "      <td>12</td>\n",
       "      <td>0.0</td>\n",
       "      <td>0.0</td>\n",
       "      <td>0.0</td>\n",
       "      <td>0.0</td>\n",
       "      <td>0.0</td>\n",
       "      <td>0.0</td>\n",
       "      <td>0</td>\n",
       "    </tr>\n",
       "    <tr>\n",
       "      <th>6</th>\n",
       "      <td>0.0</td>\n",
       "      <td>0.0</td>\n",
       "      <td>28</td>\n",
       "      <td>145</td>\n",
       "      <td>20</td>\n",
       "      <td>12</td>\n",
       "      <td>0.0</td>\n",
       "      <td>0.0</td>\n",
       "      <td>0.0</td>\n",
       "      <td>0.0</td>\n",
       "      <td>0.0</td>\n",
       "      <td>0.0</td>\n",
       "      <td>0</td>\n",
       "    </tr>\n",
       "    <tr>\n",
       "      <th>7</th>\n",
       "      <td>0.0</td>\n",
       "      <td>0.0</td>\n",
       "      <td>28</td>\n",
       "      <td>145</td>\n",
       "      <td>20</td>\n",
       "      <td>12</td>\n",
       "      <td>0.0</td>\n",
       "      <td>0.0</td>\n",
       "      <td>0.0</td>\n",
       "      <td>0.0</td>\n",
       "      <td>0.0</td>\n",
       "      <td>0.0</td>\n",
       "      <td>0</td>\n",
       "    </tr>\n",
       "    <tr>\n",
       "      <th>8</th>\n",
       "      <td>0.0</td>\n",
       "      <td>0.0</td>\n",
       "      <td>28</td>\n",
       "      <td>145</td>\n",
       "      <td>20</td>\n",
       "      <td>12</td>\n",
       "      <td>0.0</td>\n",
       "      <td>0.0</td>\n",
       "      <td>0.0</td>\n",
       "      <td>0.0</td>\n",
       "      <td>0.0</td>\n",
       "      <td>0.0</td>\n",
       "      <td>0</td>\n",
       "    </tr>\n",
       "    <tr>\n",
       "      <th>9</th>\n",
       "      <td>0.0</td>\n",
       "      <td>0.0</td>\n",
       "      <td>28</td>\n",
       "      <td>145</td>\n",
       "      <td>20</td>\n",
       "      <td>12</td>\n",
       "      <td>0.0</td>\n",
       "      <td>0.0</td>\n",
       "      <td>0.0</td>\n",
       "      <td>0.0</td>\n",
       "      <td>0.0</td>\n",
       "      <td>0.0</td>\n",
       "      <td>0</td>\n",
       "    </tr>\n",
       "  </tbody>\n",
       "</table>\n",
       "</div>"
      ],
      "text/plain": [
       "   Throttle1  Throttle2  Tachometer1  Tachometer2  Tachometer3  Tachometer4  \\\n",
       "0        0.0        0.0           28          145           20           12   \n",
       "1        0.0        0.0           28          145           20           12   \n",
       "2        0.0        0.0           28          145           20           12   \n",
       "3        0.0        0.0           28          145           20           12   \n",
       "4        0.0        0.0           28          145           20           12   \n",
       "5        0.0        0.0           28          145           20           12   \n",
       "6        0.0        0.0           28          145           20           12   \n",
       "7        0.0        0.0           28          145           20           12   \n",
       "8        0.0        0.0           28          145           20           12   \n",
       "9        0.0        0.0           28          145           20           12   \n",
       "\n",
       "   MeasuredSpeed1  MeasuredSpeed2  MeasuredSpeed3  MeasuredSpeed4  \\\n",
       "0             0.0             0.0             0.0             0.0   \n",
       "1             0.0             0.0             0.0             0.0   \n",
       "2             0.0             0.0             0.0             0.0   \n",
       "3             0.0             0.0             0.0             0.0   \n",
       "4             0.0             0.0             0.0             0.0   \n",
       "5             0.0             0.0             0.0             0.0   \n",
       "6             0.0             0.0             0.0             0.0   \n",
       "7             0.0             0.0             0.0             0.0   \n",
       "8             0.0             0.0             0.0             0.0   \n",
       "9             0.0             0.0             0.0             0.0   \n",
       "\n",
       "   SetpointSpeed1  SetpointSpeed2  StatusFlags  \n",
       "0             0.0             0.0            0  \n",
       "1             0.0             0.0            0  \n",
       "2             0.0             0.0            0  \n",
       "3             0.0             0.0            0  \n",
       "4             0.0             0.0            0  \n",
       "5             0.0             0.0            0  \n",
       "6             0.0             0.0            0  \n",
       "7             0.0             0.0            0  \n",
       "8             0.0             0.0            0  \n",
       "9             0.0             0.0            0  "
      ]
     },
     "execution_count": 21,
     "metadata": {},
     "output_type": "execute_result"
    }
   ],
   "source": [
    "motor_control_tm_df = pd.read_csv(os.path.join(vehicle.capture_path,\"tctm.telemetry.MotorControlTelemetry.csv\"))\n",
    "motor_control_tm_df"
   ]
  },
  {
   "cell_type": "markdown",
   "id": "c0fb3f54-f6e6-46d4-aeae-0073acae8ddb",
   "metadata": {},
   "source": [
    "### Sending commands"
   ]
  },
  {
   "cell_type": "code",
   "execution_count": null,
   "id": "5a45aa9a-0bc5-44c8-9783-cf939c2795c4",
   "metadata": {},
   "outputs": [],
   "source": []
  },
  {
   "cell_type": "code",
   "execution_count": null,
   "id": "e569b090-e027-44c3-b9e0-685df0613842",
   "metadata": {},
   "outputs": [],
   "source": [
    "vehicle.set_motor_throttles(0.0,0.51,0x3)"
   ]
  },
  {
   "cell_type": "code",
   "execution_count": null,
   "id": "acffcf89-0347-443b-a19b-4bfdd2f324b6",
   "metadata": {},
   "outputs": [],
   "source": [
    "vehicle.set_motor_throttles(1.0,1.0,0x3)"
   ]
  },
  {
   "cell_type": "code",
   "execution_count": null,
   "id": "3b8c3b54-2097-4752-ad94-4038e3090e4a",
   "metadata": {},
   "outputs": [],
   "source": [
    "# Stop motors\n",
    "vehicle.set_motor_throttles(0.0,0.,0x3)\n",
    "vehicle.set_motor_speeds(0.0,0.,0x3)"
   ]
  },
  {
   "cell_type": "code",
   "execution_count": null,
   "id": "dce94a64-9a25-4f1f-b725-104b3ffcea40",
   "metadata": {},
   "outputs": [],
   "source": [
    "vehicle.set_motor_speeds(0.01,0.01,0x3)"
   ]
  },
  {
   "cell_type": "code",
   "execution_count": null,
   "id": "1f46dfd4-94ae-42ac-b2ad-1126792ce4ce",
   "metadata": {},
   "outputs": [],
   "source": [
    "vehicle.set_pid_parameters(0.1,5.3,5.0)"
   ]
  },
  {
   "cell_type": "code",
   "execution_count": null,
   "id": "737b1ed1-dde6-4d17-b75f-2e8288e3d055",
   "metadata": {},
   "outputs": [],
   "source": [
    "vehicle.set_motor_control_mode(0)   "
   ]
  },
  {
   "cell_type": "markdown",
   "id": "ae87d091-c7e3-450c-bb0b-e0881e747e28",
   "metadata": {},
   "source": [
    "## Checking received telemetry"
   ]
  },
  {
   "cell_type": "code",
   "execution_count": null,
   "id": "d4e9bcde-2249-4e64-af48-2602557164b8",
   "metadata": {},
   "outputs": [],
   "source": [
    "vehicle.print_telemetry()"
   ]
  },
  {
   "cell_type": "markdown",
   "id": "81526260-55c9-44e8-9b1e-9af8b19cfb0d",
   "metadata": {},
   "source": [
    "## Teardown"
   ]
  },
  {
   "cell_type": "code",
   "execution_count": 20,
   "id": "fd5c4f6f-ad13-40ed-9129-1b18454eabde",
   "metadata": {},
   "outputs": [],
   "source": [
    "vehicle.shutdown()"
   ]
  },
  {
   "cell_type": "markdown",
   "id": "8be933e2-e756-4bb3-8e41-7ffabdbb9ee9",
   "metadata": {
    "tags": []
   },
   "source": [
    "# Work in progress\n",
    "\n",
    "<hr/>"
   ]
  },
  {
   "cell_type": "code",
   "execution_count": null,
   "id": "8ab2c8bb-4ee6-465a-8530-fcac1150f6aa",
   "metadata": {},
   "outputs": [],
   "source": [
    "\n"
   ]
  },
  {
   "cell_type": "code",
   "execution_count": null,
   "id": "7d56007c-bb88-4796-b59d-207f18d5c829",
   "metadata": {},
   "outputs": [],
   "source": []
  }
 ],
 "metadata": {
  "kernelspec": {
   "display_name": "Python 3 (ipykernel)",
   "language": "python",
   "name": "python3"
  },
  "language_info": {
   "codemirror_mode": {
    "name": "ipython",
    "version": 3
   },
   "file_extension": ".py",
   "mimetype": "text/x-python",
   "name": "python",
   "nbconvert_exporter": "python",
   "pygments_lexer": "ipython3",
   "version": "3.8.8"
  }
 },
 "nbformat": 4,
 "nbformat_minor": 5
}
